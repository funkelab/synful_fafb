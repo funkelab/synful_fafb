{
 "cells": [
  {
   "cell_type": "markdown",
   "metadata": {},
   "source": [
    "## Polarity of Olfactory Projection Neurons\n",
    "Author Philipp Schlegel\n",
    "\n",
    "Non-standard required packages:\n",
    "- navis ([link](https://navis.readthedocs.io/en/latest/))\n",
    "- pymaid ([link](https://pymaid.readthedocs.io/en/latest/))\n",
    "- fafbseg ([link](https://fafbseg-py.readthedocs.io/en/latest/)\n",
    "\n",
    "You will also require access to tFAFB"
   ]
  },
  {
   "cell_type": "code",
   "execution_count": 1,
   "metadata": {},
   "outputs": [
    {
     "data": {
      "text/html": [
       "        <script type=\"text/javascript\">\n",
       "        window.PlotlyConfig = {MathJaxConfig: 'local'};\n",
       "        if (window.MathJax) {MathJax.Hub.Config({SVG: {font: \"STIX-Web\"}});}\n",
       "        if (typeof require !== 'undefined') {\n",
       "        require.undef(\"plotly\");\n",
       "        requirejs.config({\n",
       "            paths: {\n",
       "                'plotly': ['https://cdn.plot.ly/plotly-latest.min']\n",
       "            }\n",
       "        });\n",
       "        require(['plotly'], function(Plotly) {\n",
       "            window._Plotly = Plotly;\n",
       "        });\n",
       "        }\n",
       "        </script>\n",
       "        "
      ]
     },
     "metadata": {},
     "output_type": "display_data"
    },
    {
     "name": "stdout",
     "output_type": "stream",
     "text": [
      "navis version: 0.3.4\n",
      "pymaid version: 2.0.0\n",
      "fafbseg version: 1.0.2\n"
     ]
    }
   ],
   "source": [
    "import pymaid\n",
    "import navis\n",
    "import pickle\n",
    "\n",
    "import pandas as pd\n",
    "import seaborn as sns\n",
    "sns.set_color_codes('muted')\n",
    "\n",
    "import matplotlib as mpl\n",
    "mpl.rcParams['pdf.fonttype'] = 42\n",
    "\n",
    "import matplotlib.pyplot as plt\n",
    "\n",
    "import fafbseg\n",
    "from fafbseg import synapses\n",
    "\n",
    "print('navis version:', navis.__version__)\n",
    "print('pymaid version:', pymaid.__version__)\n",
    "print('fafbseg version:', fafbseg.__version__)"
   ]
  },
  {
   "cell_type": "code",
   "execution_count": 2,
   "metadata": {},
   "outputs": [
    {
     "name": "stderr",
     "output_type": "stream",
     "text": [
      "INFO  : Global CATMAID instance set. Caching is ON. (pymaid)\n"
     ]
    },
    {
     "data": {
      "application/vnd.jupyter.widget-view+json": {
       "model_id": "",
       "version_major": 2,
       "version_minor": 0
      },
      "text/plain": [
       "HBox(children=(HTML(value='Fetch neurons'), FloatProgress(value=0.0, max=348.0), HTML(value='')))"
      ]
     },
     "metadata": {},
     "output_type": "display_data"
    },
    {
     "name": "stderr",
     "output_type": "stream",
     "text": [
      "INFO  : Cached data used. Use `pymaid.clear_cache()` to clear. (pymaid)\n"
     ]
    },
    {
     "data": {
      "application/vnd.jupyter.widget-view+json": {
       "model_id": "",
       "version_major": 2,
       "version_minor": 0
      },
      "text/plain": [
       "HBox(children=(HTML(value='Make nrn'), FloatProgress(value=0.0, max=348.0), HTML(value='')))"
      ]
     },
     "metadata": {},
     "output_type": "display_data"
    },
    {
     "data": {
      "text/html": [
       "<div>\n",
       "<style scoped>\n",
       "    .dataframe tbody tr th:only-of-type {\n",
       "        vertical-align: middle;\n",
       "    }\n",
       "\n",
       "    .dataframe tbody tr th {\n",
       "        vertical-align: top;\n",
       "    }\n",
       "\n",
       "    .dataframe thead th {\n",
       "        text-align: right;\n",
       "    }\n",
       "</style>\n",
       "<table border=\"1\" class=\"dataframe\">\n",
       "  <thead>\n",
       "    <tr style=\"text-align: right;\">\n",
       "      <th></th>\n",
       "      <th>type</th>\n",
       "      <th>name</th>\n",
       "      <th>skeleton_id</th>\n",
       "      <th>n_nodes</th>\n",
       "      <th>n_connectors</th>\n",
       "      <th>n_branches</th>\n",
       "      <th>n_leafs</th>\n",
       "      <th>cable_length</th>\n",
       "      <th>soma</th>\n",
       "      <th>units</th>\n",
       "    </tr>\n",
       "  </thead>\n",
       "  <tbody>\n",
       "    <tr>\n",
       "      <th>0</th>\n",
       "      <td>CatmaidNeuron</td>\n",
       "      <td>Uniglomerular mALT DA1 lPN 57316 2863105 ML</td>\n",
       "      <td>2863104</td>\n",
       "      <td>6774</td>\n",
       "      <td>470</td>\n",
       "      <td>280</td>\n",
       "      <td>None</td>\n",
       "      <td>1522064.50</td>\n",
       "      <td>[3245741]</td>\n",
       "      <td>1 nanometer</td>\n",
       "    </tr>\n",
       "    <tr>\n",
       "      <th>1</th>\n",
       "      <td>CatmaidNeuron</td>\n",
       "      <td>Uniglomerular mALT DA3 adPN 57350 HG</td>\n",
       "      <td>57349</td>\n",
       "      <td>7525</td>\n",
       "      <td>633</td>\n",
       "      <td>258</td>\n",
       "      <td>None</td>\n",
       "      <td>1487814.75</td>\n",
       "      <td>[3048539]</td>\n",
       "      <td>1 nanometer</td>\n",
       "    </tr>\n",
       "    <tr>\n",
       "      <th>2</th>\n",
       "      <td>CatmaidNeuron</td>\n",
       "      <td>Uniglomerular mALT DA1 lPN 57354 GA</td>\n",
       "      <td>57353</td>\n",
       "      <td>6985</td>\n",
       "      <td>370</td>\n",
       "      <td>225</td>\n",
       "      <td>None</td>\n",
       "      <td>1539364.25</td>\n",
       "      <td>[3254736]</td>\n",
       "      <td>1 nanometer</td>\n",
       "    </tr>\n",
       "    <tr>\n",
       "      <th>3</th>\n",
       "      <td>CatmaidNeuron</td>\n",
       "      <td>Uniglomerular mALT VA6 adPN 017 DB</td>\n",
       "      <td>16</td>\n",
       "      <td>16840</td>\n",
       "      <td>2158</td>\n",
       "      <td>1172</td>\n",
       "      <td>None</td>\n",
       "      <td>4003103.50</td>\n",
       "      <td>[2941309]</td>\n",
       "      <td>1 nanometer</td>\n",
       "    </tr>\n",
       "    <tr>\n",
       "      <th>4</th>\n",
       "      <td>CatmaidNeuron</td>\n",
       "      <td>Uniglomerular mALT VA5 lPN 57362 ML</td>\n",
       "      <td>57361</td>\n",
       "      <td>6005</td>\n",
       "      <td>557</td>\n",
       "      <td>284</td>\n",
       "      <td>None</td>\n",
       "      <td>1505360.75</td>\n",
       "      <td>[2957086]</td>\n",
       "      <td>1 nanometer</td>\n",
       "    </tr>\n",
       "  </tbody>\n",
       "</table>\n",
       "</div>"
      ],
      "text/plain": [
       "            type                                         name skeleton_id  \\\n",
       "0  CatmaidNeuron  Uniglomerular mALT DA1 lPN 57316 2863105 ML     2863104   \n",
       "1  CatmaidNeuron         Uniglomerular mALT DA3 adPN 57350 HG       57349   \n",
       "2  CatmaidNeuron          Uniglomerular mALT DA1 lPN 57354 GA       57353   \n",
       "3  CatmaidNeuron           Uniglomerular mALT VA6 adPN 017 DB          16   \n",
       "4  CatmaidNeuron          Uniglomerular mALT VA5 lPN 57362 ML       57361   \n",
       "\n",
       "   n_nodes  n_connectors  n_branches n_leafs  cable_length       soma  \\\n",
       "0     6774           470         280    None    1522064.50  [3245741]   \n",
       "1     7525           633         258    None    1487814.75  [3048539]   \n",
       "2     6985           370         225    None    1539364.25  [3254736]   \n",
       "3    16840          2158        1172    None    4003103.50  [2941309]   \n",
       "4     6005           557         284    None    1505360.75  [2957086]   \n",
       "\n",
       "         units  \n",
       "0  1 nanometer  \n",
       "1  1 nanometer  \n",
       "2  1 nanometer  \n",
       "3  1 nanometer  \n",
       "4  1 nanometer  "
      ]
     },
     "execution_count": 2,
     "metadata": {},
     "output_type": "execute_result"
    }
   ],
   "source": [
    "# Load the right hand side projection neurons (PNs)\n",
    "rm = pymaid.connect_catmaid()\n",
    "pns = pymaid.get_neurons('annotation:WTPN2017_AL_PN_right')\n",
    "pns.head()"
   ]
  },
  {
   "cell_type": "code",
   "execution_count": 3,
   "metadata": {
    "collapsed": true
   },
   "outputs": [],
   "source": [
    "# Make sure PNs are rooted to their soma\n",
    "for n in pns:\n",
    "    n.reroot(n.soma, inplace=True)"
   ]
  },
  {
   "cell_type": "code",
   "execution_count": 4,
   "metadata": {
    "collapsed": true
   },
   "outputs": [],
   "source": [
    "# Get the brain neuropil mesh for visualization\n",
    "brain = pymaid.get_volume('v14.neuropil')\n",
    "brain.color = (100, 100, 100, 0.1)"
   ]
  },
  {
   "cell_type": "code",
   "execution_count": 4,
   "metadata": {},
   "outputs": [
    {
     "name": "stderr",
     "output_type": "stream",
     "text": [
      "                                                                        \r"
     ]
    },
    {
     "data": {
      "application/vnd.jupyter.widget-view+json": {
       "model_id": "",
       "version_major": 2,
       "version_minor": 0
      },
      "text/plain": [
       "HBox(children=(HTML(value='Proc. neurons'), FloatProgress(value=0.0, max=348.0), HTML(value='')))"
      ]
     },
     "metadata": {},
     "output_type": "display_data"
    },
    {
     "data": {
      "text/html": [
       "<div>\n",
       "<style scoped>\n",
       "    .dataframe tbody tr th:only-of-type {\n",
       "        vertical-align: middle;\n",
       "    }\n",
       "\n",
       "    .dataframe tbody tr th {\n",
       "        vertical-align: top;\n",
       "    }\n",
       "\n",
       "    .dataframe thead th {\n",
       "        text-align: right;\n",
       "    }\n",
       "</style>\n",
       "<table border=\"1\" class=\"dataframe\">\n",
       "  <thead>\n",
       "    <tr style=\"text-align: right;\">\n",
       "      <th></th>\n",
       "      <th>cleft_scores</th>\n",
       "      <th>connector_id</th>\n",
       "      <th>neuron</th>\n",
       "      <th>node_id</th>\n",
       "      <th>type</th>\n",
       "      <th>x</th>\n",
       "      <th>y</th>\n",
       "      <th>z</th>\n",
       "    </tr>\n",
       "  </thead>\n",
       "  <tbody>\n",
       "    <tr>\n",
       "      <th>0</th>\n",
       "      <td>123</td>\n",
       "      <td>197112</td>\n",
       "      <td>10078400</td>\n",
       "      <td>51795559</td>\n",
       "      <td>pre</td>\n",
       "      <td>450624</td>\n",
       "      <td>252232</td>\n",
       "      <td>56600</td>\n",
       "    </tr>\n",
       "    <tr>\n",
       "      <th>1</th>\n",
       "      <td>149</td>\n",
       "      <td>197773</td>\n",
       "      <td>10078400</td>\n",
       "      <td>51795556</td>\n",
       "      <td>pre</td>\n",
       "      <td>450556</td>\n",
       "      <td>252200</td>\n",
       "      <td>56640</td>\n",
       "    </tr>\n",
       "    <tr>\n",
       "      <th>2</th>\n",
       "      <td>147</td>\n",
       "      <td>197815</td>\n",
       "      <td>10078400</td>\n",
       "      <td>51795556</td>\n",
       "      <td>pre</td>\n",
       "      <td>450596</td>\n",
       "      <td>252116</td>\n",
       "      <td>56680</td>\n",
       "    </tr>\n",
       "    <tr>\n",
       "      <th>3</th>\n",
       "      <td>140</td>\n",
       "      <td>197827</td>\n",
       "      <td>10078400</td>\n",
       "      <td>51795556</td>\n",
       "      <td>pre</td>\n",
       "      <td>450524</td>\n",
       "      <td>252148</td>\n",
       "      <td>56680</td>\n",
       "    </tr>\n",
       "    <tr>\n",
       "      <th>4</th>\n",
       "      <td>143</td>\n",
       "      <td>198078</td>\n",
       "      <td>10078400</td>\n",
       "      <td>51795556</td>\n",
       "      <td>pre</td>\n",
       "      <td>450492</td>\n",
       "      <td>252204</td>\n",
       "      <td>56680</td>\n",
       "    </tr>\n",
       "  </tbody>\n",
       "</table>\n",
       "</div>"
      ],
      "text/plain": [
       "   cleft_scores  connector_id    neuron   node_id type       x       y      z\n",
       "0           123        197112  10078400  51795559  pre  450624  252232  56600\n",
       "1           149        197773  10078400  51795556  pre  450556  252200  56640\n",
       "2           147        197815  10078400  51795556  pre  450596  252116  56680\n",
       "3           140        197827  10078400  51795556  pre  450524  252148  56680\n",
       "4           143        198078  10078400  51795556  pre  450492  252204  56680"
      ]
     },
     "execution_count": 4,
     "metadata": {},
     "output_type": "execute_result"
    }
   ],
   "source": [
    "# Populate those PNs with Buhmann et al synapses\n",
    "syn = synapses.get_neuron_synapses(pns,\n",
    "                                   db='/Users/philipps/Downloads/csv_agglomerated.db',\n",
    "                                   ol_thresh=2,\n",
    "                                   attach=False)\n",
    "syn.head()"
   ]
  },
  {
   "cell_type": "code",
   "execution_count": 5,
   "metadata": {
    "collapsed": true
   },
   "outputs": [],
   "source": [
    "# Save the synapses so we don't have to run the query again and again\n",
    "#with open('/Users/philipps/Downloads/PN_synapses.pkl', 'wb') as f:\n",
    "#    pickle.dump(syn, f)"
   ]
  },
  {
   "cell_type": "code",
   "execution_count": 5,
   "metadata": {},
   "outputs": [
    {
     "data": {
      "text/html": [
       "<div>\n",
       "<style scoped>\n",
       "    .dataframe tbody tr th:only-of-type {\n",
       "        vertical-align: middle;\n",
       "    }\n",
       "\n",
       "    .dataframe tbody tr th {\n",
       "        vertical-align: top;\n",
       "    }\n",
       "\n",
       "    .dataframe thead th {\n",
       "        text-align: right;\n",
       "    }\n",
       "</style>\n",
       "<table border=\"1\" class=\"dataframe\">\n",
       "  <thead>\n",
       "    <tr style=\"text-align: right;\">\n",
       "      <th></th>\n",
       "      <th>cleft_scores</th>\n",
       "      <th>connector_id</th>\n",
       "      <th>neuron</th>\n",
       "      <th>node_id</th>\n",
       "      <th>type</th>\n",
       "      <th>x</th>\n",
       "      <th>y</th>\n",
       "      <th>z</th>\n",
       "    </tr>\n",
       "  </thead>\n",
       "  <tbody>\n",
       "    <tr>\n",
       "      <th>0</th>\n",
       "      <td>123</td>\n",
       "      <td>258667</td>\n",
       "      <td>10078400</td>\n",
       "      <td>51795559</td>\n",
       "      <td>pre</td>\n",
       "      <td>450624</td>\n",
       "      <td>252232</td>\n",
       "      <td>56600</td>\n",
       "    </tr>\n",
       "    <tr>\n",
       "      <th>1</th>\n",
       "      <td>149</td>\n",
       "      <td>259530</td>\n",
       "      <td>10078400</td>\n",
       "      <td>51795556</td>\n",
       "      <td>pre</td>\n",
       "      <td>450556</td>\n",
       "      <td>252200</td>\n",
       "      <td>56640</td>\n",
       "    </tr>\n",
       "    <tr>\n",
       "      <th>2</th>\n",
       "      <td>147</td>\n",
       "      <td>259585</td>\n",
       "      <td>10078400</td>\n",
       "      <td>51795556</td>\n",
       "      <td>pre</td>\n",
       "      <td>450596</td>\n",
       "      <td>252116</td>\n",
       "      <td>56680</td>\n",
       "    </tr>\n",
       "    <tr>\n",
       "      <th>3</th>\n",
       "      <td>140</td>\n",
       "      <td>259600</td>\n",
       "      <td>10078400</td>\n",
       "      <td>51795556</td>\n",
       "      <td>pre</td>\n",
       "      <td>450524</td>\n",
       "      <td>252148</td>\n",
       "      <td>56680</td>\n",
       "    </tr>\n",
       "    <tr>\n",
       "      <th>4</th>\n",
       "      <td>143</td>\n",
       "      <td>259942</td>\n",
       "      <td>10078400</td>\n",
       "      <td>51795556</td>\n",
       "      <td>pre</td>\n",
       "      <td>450492</td>\n",
       "      <td>252204</td>\n",
       "      <td>56680</td>\n",
       "    </tr>\n",
       "  </tbody>\n",
       "</table>\n",
       "</div>"
      ],
      "text/plain": [
       "   cleft_scores  connector_id    neuron   node_id type       x       y      z\n",
       "0           123        258667  10078400  51795559  pre  450624  252232  56600\n",
       "1           149        259530  10078400  51795556  pre  450556  252200  56640\n",
       "2           147        259585  10078400  51795556  pre  450596  252116  56680\n",
       "3           140        259600  10078400  51795556  pre  450524  252148  56680\n",
       "4           143        259942  10078400  51795556  pre  450492  252204  56680"
      ]
     },
     "execution_count": 5,
     "metadata": {},
     "output_type": "execute_result"
    }
   ],
   "source": [
    "# Load pickled synapses\n",
    "#with open('/Users/philipps/Downloads/PN_synapses.pkl', 'rb') as f:\n",
    "#    syn = pickle.load(f)\n",
    "#syn.head()"
   ]
  },
  {
   "cell_type": "code",
   "execution_count": 6,
   "metadata": {},
   "outputs": [
    {
     "data": {
      "application/vnd.jupyter.widget-view+json": {
       "model_id": "",
       "version_major": 2,
       "version_minor": 0
      },
      "text/plain": [
       "HBox(children=(HTML(value='Copy'), FloatProgress(value=0.0, max=348.0), HTML(value='')))"
      ]
     },
     "metadata": {},
     "output_type": "display_data"
    }
   ],
   "source": [
    "# Make PNs with the Buhmann synapses\n",
    "pns_syn = pns.copy()\n",
    "for n in pns_syn:\n",
    "    n._connectors = syn[(syn.neuron == int(n.id))]"
   ]
  },
  {
   "cell_type": "code",
   "execution_count": 7,
   "metadata": {},
   "outputs": [
    {
     "data": {
      "application/vnd.jupyter.widget-view+json": {
       "model_id": "",
       "version_major": 2,
       "version_minor": 0
      },
      "text/plain": [
       "HBox(children=(HTML(value='Calc. flow'), FloatProgress(value=0.0, max=348.0), HTML(value='')))"
      ]
     },
     "metadata": {},
     "output_type": "display_data"
    }
   ],
   "source": [
    "# Generate flow centrality based on these synapses\n",
    "navis.flow_centrality(pns_syn, mode='sum')"
   ]
  },
  {
   "cell_type": "code",
   "execution_count": 8,
   "metadata": {},
   "outputs": [
    {
     "data": {
      "application/vnd.jupyter.widget-view+json": {
       "model_id": "",
       "version_major": 2,
       "version_minor": 0
      },
      "text/plain": [
       "HBox(children=(HTML(value='Splitting'), FloatProgress(value=0.0, max=348.0), HTML(value='')))"
      ]
     },
     "metadata": {},
     "output_type": "display_data"
    },
    {
     "data": {
      "text/html": [
       "<div>\n",
       "<style scoped>\n",
       "    .dataframe tbody tr th:only-of-type {\n",
       "        vertical-align: middle;\n",
       "    }\n",
       "\n",
       "    .dataframe tbody tr th {\n",
       "        vertical-align: top;\n",
       "    }\n",
       "\n",
       "    .dataframe thead th {\n",
       "        text-align: right;\n",
       "    }\n",
       "</style>\n",
       "<table border=\"1\" class=\"dataframe\">\n",
       "  <thead>\n",
       "    <tr style=\"text-align: right;\">\n",
       "      <th></th>\n",
       "      <th>type</th>\n",
       "      <th>name</th>\n",
       "      <th>id</th>\n",
       "      <th>n_nodes</th>\n",
       "      <th>n_connectors</th>\n",
       "      <th>n_branches</th>\n",
       "      <th>n_leafs</th>\n",
       "      <th>cable_length</th>\n",
       "      <th>soma</th>\n",
       "      <th>units</th>\n",
       "      <th>compartment</th>\n",
       "    </tr>\n",
       "  </thead>\n",
       "  <tbody>\n",
       "    <tr>\n",
       "      <th>0</th>\n",
       "      <td>CatmaidNeuron</td>\n",
       "      <td>Uniglomerular mALT DA1 lPN 57316 2863105 ML</td>\n",
       "      <td>2863104</td>\n",
       "      <td>124</td>\n",
       "      <td>1</td>\n",
       "      <td>0</td>\n",
       "      <td>1</td>\n",
       "      <td>73648.101562</td>\n",
       "      <td>[3245741]</td>\n",
       "      <td>1 nanometer</td>\n",
       "      <td>cellbodyfiber</td>\n",
       "    </tr>\n",
       "    <tr>\n",
       "      <th>1</th>\n",
       "      <td>CatmaidNeuron</td>\n",
       "      <td>Uniglomerular mALT DA1 lPN 57316 2863105 ML</td>\n",
       "      <td>2863104</td>\n",
       "      <td>2396</td>\n",
       "      <td>875</td>\n",
       "      <td>206</td>\n",
       "      <td>214</td>\n",
       "      <td>745949.625000</td>\n",
       "      <td>None</td>\n",
       "      <td>1 nanometer</td>\n",
       "      <td>dendrite</td>\n",
       "    </tr>\n",
       "    <tr>\n",
       "      <th>2</th>\n",
       "      <td>CatmaidNeuron</td>\n",
       "      <td>Uniglomerular mALT DA1 lPN 57316 2863105 ML</td>\n",
       "      <td>2863104</td>\n",
       "      <td>1551</td>\n",
       "      <td>0</td>\n",
       "      <td>3</td>\n",
       "      <td>2</td>\n",
       "      <td>274448.625000</td>\n",
       "      <td>None</td>\n",
       "      <td>1 nanometer</td>\n",
       "      <td>linker</td>\n",
       "    </tr>\n",
       "    <tr>\n",
       "      <th>3</th>\n",
       "      <td>CatmaidNeuron</td>\n",
       "      <td>Uniglomerular mALT DA1 lPN 57316 2863105 ML</td>\n",
       "      <td>2863104</td>\n",
       "      <td>2586</td>\n",
       "      <td>3789</td>\n",
       "      <td>65</td>\n",
       "      <td>62</td>\n",
       "      <td>401307.468750</td>\n",
       "      <td>None</td>\n",
       "      <td>1 nanometer</td>\n",
       "      <td>axon</td>\n",
       "    </tr>\n",
       "    <tr>\n",
       "      <th>4</th>\n",
       "      <td>CatmaidNeuron</td>\n",
       "      <td>Uniglomerular mALT DA3 adPN 57350 HG</td>\n",
       "      <td>57349</td>\n",
       "      <td>232</td>\n",
       "      <td>0</td>\n",
       "      <td>0</td>\n",
       "      <td>1</td>\n",
       "      <td>83567.578125</td>\n",
       "      <td>[3048539]</td>\n",
       "      <td>1 nanometer</td>\n",
       "      <td>cellbodyfiber</td>\n",
       "    </tr>\n",
       "  </tbody>\n",
       "</table>\n",
       "</div>"
      ],
      "text/plain": [
       "            type                                         name       id  \\\n",
       "0  CatmaidNeuron  Uniglomerular mALT DA1 lPN 57316 2863105 ML  2863104   \n",
       "1  CatmaidNeuron  Uniglomerular mALT DA1 lPN 57316 2863105 ML  2863104   \n",
       "2  CatmaidNeuron  Uniglomerular mALT DA1 lPN 57316 2863105 ML  2863104   \n",
       "3  CatmaidNeuron  Uniglomerular mALT DA1 lPN 57316 2863105 ML  2863104   \n",
       "4  CatmaidNeuron         Uniglomerular mALT DA3 adPN 57350 HG    57349   \n",
       "\n",
       "   n_nodes  n_connectors  n_branches  n_leafs   cable_length       soma  \\\n",
       "0      124             1           0        1   73648.101562  [3245741]   \n",
       "1     2396           875         206      214  745949.625000       None   \n",
       "2     1551             0           3        2  274448.625000       None   \n",
       "3     2586          3789          65       62  401307.468750       None   \n",
       "4      232             0           0        1   83567.578125  [3048539]   \n",
       "\n",
       "         units    compartment  \n",
       "0  1 nanometer  cellbodyfiber  \n",
       "1  1 nanometer       dendrite  \n",
       "2  1 nanometer         linker  \n",
       "3  1 nanometer           axon  \n",
       "4  1 nanometer  cellbodyfiber  "
      ]
     },
     "execution_count": 8,
     "metadata": {},
     "output_type": "execute_result"
    }
   ],
   "source": [
    "# Split PNs into axon & dendrite & linker & cellbodyfiber\n",
    "splits = navis.split_axon_dendrite(pns_syn, metric='flow_centrality', flow_thresh=0.7)\n",
    "splits.head()"
   ]
  },
  {
   "cell_type": "code",
   "execution_count": 9,
   "metadata": {
    "collapsed": true
   },
   "outputs": [],
   "source": [
    "# Save for later reuse\n",
    "#with open('/Users/philipps/Downloads/PN_splits.pkl', 'wb') as f:\n",
    "#    pickle.dump(splits, f)"
   ]
  },
  {
   "cell_type": "markdown",
   "metadata": {},
   "source": [
    "Manual review of the above splits shows that of the 346 (+ 2 OA-VUMs):\n",
    "* 278 (84%) look perfect!\n",
    "* 26 (7.5%) contain major errors - most of these are in mPNs\n",
    "* 42 (12%) contain minor errors such as one small branch of the axon being mis-ID as dendrite or the dendrite spreading into the linker\n",
    "\n",
    "It's quite possible that some of these errors could be fixed by more fine-tuning but it's unlikely there is one-size-fits-all.\n",
    "\n",
    "Here are some examples of badly split neurons:\n",
    "* 57179\n",
    "* 65465\n",
    "* 57134\n",
    "* 27884 is a bilateral one that does not split nicely\n",
    "* 2846667 has a big chunk of axon labeled as dendrites\n",
    "* 57142 has axon and dendrite swapped                                                                                                                                                             * 57126 has axon and dendrite swapped\n",
    "* 856254 is a OA-VUMa2 that does not split well"
   ]
  },
  {
   "cell_type": "markdown",
   "metadata": {},
   "source": [
    "### A bunch of plots:"
   ]
  },
  {
   "cell_type": "code",
   "execution_count": 18,
   "metadata": {
    "collapsed": true
   },
   "outputs": [],
   "source": [
    "# This is a typical PN which we will use for plotting\n",
    "id = 2863104"
   ]
  },
  {
   "cell_type": "code",
   "execution_count": 41,
   "metadata": {},
   "outputs": [
    {
     "name": "stderr",
     "output_type": "stream",
     "text": [
      "/Users/philipps/.pyenv/versions/3.7.5/lib/python3.7/site-packages/numpy/core/_asarray.py:136: VisibleDeprecationWarning:\n",
      "\n",
      "Creating an ndarray from ragged nested sequences (which is a list-or-tuple of lists-or-tuples-or ndarrays with different lengths or shapes) is deprecated. If you meant to do this, you must specify 'dtype=object' when creating the ndarray\n",
      "\n"
     ]
    },
    {
     "data": {
      "image/png": "[encoded data removed]",
      "text/plain": [
       "<Figure size 432x432 with 1 Axes>"
      ]
     },
     "metadata": {
      "needs_background": "light"
     },
     "output_type": "display_data"
    }
   ],
   "source": [
    "n = pns_syn.idx[id]\n",
    "fig, ax = navis.plot2d([n, brain], connectors=False, color='k', lw=1.5)\n",
    "ax.elev, ax.azim, ax.dist = -90, -90, 5\n",
    "plt.savefig('example_neuron1.png', transparent=True, dpi=400)"
   ]
  },
  {
   "cell_type": "code",
   "execution_count": 72,
   "metadata": {},
   "outputs": [
    {
     "data": {
      "image/png": "[encoded data removed]",
      "text/plain": [
       "<Figure size 432x432 with 1 Axes>"
      ]
     },
     "metadata": {
      "needs_background": "light"
     },
     "output_type": "display_data"
    }
   ],
   "source": [
    "n = pns_syn.idx[id]\n",
    "fig, ax = navis.plot2d(n, connectors=False, color='k', lw=1.5)\n",
    "ax.elev, ax.azim, ax.dist = -90, -90, 5\n",
    "plt.savefig('example_neuron1_no_brain.png', transparent=True, dpi=400)"
   ]
  },
  {
   "cell_type": "code",
   "execution_count": 106,
   "metadata": {},
   "outputs": [
    {
     "data": {
      "application/vnd.jupyter.widget-view+json": {
       "model_id": "",
       "version_major": 2,
       "version_minor": 0
      },
      "text/plain": [
       "HBox(children=(HTML(value='Plot neurons'), FloatProgress(value=0.0, max=348.0), HTML(value='')))"
      ]
     },
     "metadata": {},
     "output_type": "display_data"
    },
    {
     "data": {
      "text/plain": [
       "<Figure size 432x432 with 0 Axes>"
      ]
     },
     "metadata": {},
     "output_type": "display_data"
    }
   ],
   "source": [
    "fig, ax = navis.plot2d([pns, brain], connectors=False, lw=1, method='3d_complex')\n",
    "ax.elev, ax.azim, ax.dist = -90, -90, 5\n",
    "plt.savefig('all_pns.png', transparent=True, dpi=400)\n",
    "plt.close()"
   ]
  },
  {
   "cell_type": "code",
   "execution_count": 10,
   "metadata": {},
   "outputs": [
    {
     "data": {
      "application/vnd.jupyter.widget-view+json": {
       "model_id": "",
       "version_major": 2,
       "version_minor": 0
      },
      "text/plain": [
       "HBox(children=(HTML(value='Plot neurons'), FloatProgress(value=0.0, max=348.0), HTML(value='')))"
      ]
     },
     "metadata": {},
     "output_type": "display_data"
    }
   ],
   "source": [
    "fig, ax = navis.plot2d([pns, brain], connectors_only=True, method='3d')\n",
    "ax.elev, ax.azim, ax.dist = -90, -90, 5\n",
    "plt.savefig('all_pns_syn_only.png', transparent=True, dpi=400)\n",
    "plt.close()"
   ]
  },
  {
   "cell_type": "code",
   "execution_count": 176,
   "metadata": {
    "collapsed": true
   },
   "outputs": [],
   "source": [
    "import matplotlib.colors as mcl\n",
    "\n",
    "for cmp, c in zip(['cellbodyfiber', 'dendrite', 'linker', 'axon'],\n",
    "                  ['slategrey', 'blue', 'lightgreen', 'red']):\n",
    "    this = splits[splits.compartment == cmp]\n",
    "    for n in this:\n",
    "        n.color = mcl.to_rgb(c)"
   ]
  },
  {
   "cell_type": "code",
   "execution_count": 33,
   "metadata": {},
   "outputs": [
    {
     "data": {
      "application/vnd.jupyter.widget-view+json": {
       "model_id": "",
       "version_major": 2,
       "version_minor": 0
      },
      "text/plain": [
       "HBox(children=(HTML(value='Plot neurons'), FloatProgress(value=0.0, max=1392.0), HTML(value='')))"
      ]
     },
     "metadata": {},
     "output_type": "display_data"
    }
   ],
   "source": [
    "fig, ax = navis.plot2d([splits, brain], connectors=False, lw=1, method='3d_complex', color=splits.color)\n",
    "ax.elev, ax.azim, ax.dist = -90, -90, 5\n",
    "plt.savefig('all_pns_splits.png', transparent=True, dpi=400)\n",
    "plt.close()"
   ]
  },
  {
   "cell_type": "code",
   "execution_count": 62,
   "metadata": {},
   "outputs": [
    {
     "data": {
      "image/png": "[encoded data removed]",
      "text/plain": [
       "<Figure size 432x432 with 1 Axes>"
      ]
     },
     "metadata": {
      "needs_background": "light"
     },
     "output_type": "display_data"
    }
   ],
   "source": [
    "n = pns_syn.idx[id]\n",
    "fig, ax = navis.plot2d(n,\n",
    "                       connectors=True, color='k', lw=1.5, alpha=.1, cn_alpha=.7,\n",
    "                       cn_size=5)\n",
    "ax.elev, ax.azim, ax.dist = -90, -90, 5\n",
    "plt.savefig('example_neuron1_synapses.png', transparent=True, dpi=400)"
   ]
  },
  {
   "cell_type": "code",
   "execution_count": 19,
   "metadata": {},
   "outputs": [
    {
     "data": {
      "image/png": "[encoded data removed]",
      "text/plain": [
       "<Figure size 432x432 with 1 Axes>"
      ]
     },
     "metadata": {
      "needs_background": "light"
     },
     "output_type": "display_data"
    }
   ],
   "source": [
    "n = pns_syn.idx[id]\n",
    "navis.arbor_segregation_index(n)\n",
    "fig, ax = navis.plot2d(n,\n",
    "                       connectors=False, lw=1.5, \n",
    "                       color_by='flow_centrality', palette='viridis')\n",
    "ax.elev, ax.azim, ax.dist = -90, -90, 5\n",
    "plt.savefig('example_neuron1_flow.png', transparent=True, dpi=400)"
   ]
  },
  {
   "cell_type": "code",
   "execution_count": 24,
   "metadata": {},
   "outputs": [
    {
     "data": {
      "application/vnd.jupyter.widget-view+json": {
       "model_id": "",
       "version_major": 2,
       "version_minor": 0
      },
      "text/plain": [
       "HBox(children=(HTML(value='Plot neurons'), FloatProgress(value=0.0, max=348.0), HTML(value='')))"
      ]
     },
     "metadata": {},
     "output_type": "display_data"
    }
   ],
   "source": [
    "fig, ax = navis.plot2d([pns_syn, brain],\n",
    "                       connectors=False, lw=1, norm_global=False,\n",
    "                       color_by='flow_centrality', shade_by='flow_centrality', palette='viridis')\n",
    "ax.elev, ax.azim, ax.dist = -90, -90, 5\n",
    "plt.savefig('all_pns_flow.png', transparent=True, dpi=400)\n",
    "plt.close()"
   ]
  },
  {
   "cell_type": "code",
   "execution_count": 31,
   "metadata": {},
   "outputs": [
    {
     "name": "stderr",
     "output_type": "stream",
     "text": [
      "WARNING : Selection contains duplicate IDs. (navis)\n"
     ]
    },
    {
     "data": {
      "application/vnd.jupyter.widget-view+json": {
       "model_id": "",
       "version_major": 2,
       "version_minor": 0
      },
      "text/plain": [
       "HBox(children=(HTML(value='Plot neurons'), FloatProgress(value=0.0, max=4.0), HTML(value='')))"
      ]
     },
     "metadata": {},
     "output_type": "display_data"
    },
    {
     "name": "stderr",
     "output_type": "stream",
     "text": [
      "/Users/philipps/.pyenv/versions/3.7.5/lib/python3.7/site-packages/numpy/core/_asarray.py:136: VisibleDeprecationWarning:\n",
      "\n",
      "Creating an ndarray from ragged nested sequences (which is a list-or-tuple of lists-or-tuples-or ndarrays with different lengths or shapes) is deprecated. If you meant to do this, you must specify 'dtype=object' when creating the ndarray\n",
      "\n"
     ]
    },
    {
     "data": {
      "image/png": "[encoded data removed]",
      "text/plain": [
       "<Figure size 432x432 with 1 Axes>"
      ]
     },
     "metadata": {
      "needs_background": "light"
     },
     "output_type": "display_data"
    }
   ],
   "source": [
    "n = splits.idx[id]\n",
    "fig, ax = navis.plot2d(n,\n",
    "                       connectors=False, lw=1.5, color=['slategrey', 'blue', 'lightgreen', 'red'],\n",
    "                       palette='viridis')\n",
    "ax.elev, ax.azim, ax.dist = -90, -90, 5\n",
    "plt.savefig('example_neuron1_split.png', transparent=True, dpi=400)"
   ]
  },
  {
   "cell_type": "code",
   "execution_count": 11,
   "metadata": {
    "collapsed": true
   },
   "outputs": [],
   "source": [
    "axons = splits[splits.compartment == 'axon']\n",
    "dendrite = splits[splits.compartment == 'dendrite']\n",
    "linker = splits[splits.compartment == 'linker']\n",
    "pnt = splits[splits.compartment == 'cellbodyfiber']  \n",
    "axon_dendrites = axons + dendrite"
   ]
  },
  {
   "cell_type": "code",
   "execution_count": 35,
   "metadata": {
    "collapsed": true
   },
   "outputs": [],
   "source": [
    "fig, ax = navis.plot2d([axons.connectors[['x', 'y', 'z']].values, brain], method='3d', scatter_kws=dict(c='r', alpha=.05))\n",
    "_ = navis.plot2d(dendrite.connectors[['x', 'y', 'z']].values, method='3d', scatter_kws=dict(c='b', alpha=.05), ax=ax)\n",
    "_ = navis.plot2d(pnt.connectors[['x', 'y', 'z']].values, method='3d', scatter_kws=dict(c='darkgrey', alpha=.015), ax=ax)\n",
    "_ = navis.plot2d(linker.connectors[['x', 'y', 'z']].values, method='3d', scatter_kws=dict(c='g', alpha=.05), ax=ax)\n",
    "ax.elev, ax.azim, ax.dist = -90, -90, 5\n",
    "plt.savefig('all_pns_syn_axo_v_dend.png', transparent=True, dpi=400)\n",
    "plt.close()"
   ]
  },
  {
   "cell_type": "markdown",
   "metadata": {},
   "source": [
    "### Plotting done - let's quantify!"
   ]
  },
  {
   "cell_type": "code",
   "execution_count": 12,
   "metadata": {},
   "outputs": [
    {
     "data": {
      "text/html": [
       "<div>\n",
       "<style scoped>\n",
       "    .dataframe tbody tr th:only-of-type {\n",
       "        vertical-align: middle;\n",
       "    }\n",
       "\n",
       "    .dataframe tbody tr th {\n",
       "        vertical-align: top;\n",
       "    }\n",
       "\n",
       "    .dataframe thead th {\n",
       "        text-align: right;\n",
       "    }\n",
       "</style>\n",
       "<table border=\"1\" class=\"dataframe\">\n",
       "  <thead>\n",
       "    <tr style=\"text-align: right;\">\n",
       "      <th></th>\n",
       "      <th>id</th>\n",
       "      <th>name</th>\n",
       "      <th>axon_pre</th>\n",
       "      <th>axon_post</th>\n",
       "      <th>dendrite_pre</th>\n",
       "      <th>dendrite_post</th>\n",
       "      <th>cellbodyfiber_pre</th>\n",
       "      <th>cellbodyfiber_post</th>\n",
       "      <th>linker_pre</th>\n",
       "      <th>linker_post</th>\n",
       "      <th>SI</th>\n",
       "    </tr>\n",
       "  </thead>\n",
       "  <tbody>\n",
       "    <tr>\n",
       "      <th>0</th>\n",
       "      <td>2863104</td>\n",
       "      <td>Uniglomerular mALT DA1 lPN 57316 2863105 ML</td>\n",
       "      <td>3657</td>\n",
       "      <td>132</td>\n",
       "      <td>504</td>\n",
       "      <td>371</td>\n",
       "      <td>0</td>\n",
       "      <td>1</td>\n",
       "      <td>0</td>\n",
       "      <td>0</td>\n",
       "      <td>0.267004</td>\n",
       "    </tr>\n",
       "    <tr>\n",
       "      <th>1</th>\n",
       "      <td>57349</td>\n",
       "      <td>Uniglomerular mALT DA3 adPN 57350 HG</td>\n",
       "      <td>1910</td>\n",
       "      <td>93</td>\n",
       "      <td>1623</td>\n",
       "      <td>148</td>\n",
       "      <td>0</td>\n",
       "      <td>0</td>\n",
       "      <td>0</td>\n",
       "      <td>0</td>\n",
       "      <td>0.012125</td>\n",
       "    </tr>\n",
       "    <tr>\n",
       "      <th>2</th>\n",
       "      <td>57353</td>\n",
       "      <td>Uniglomerular mALT DA1 lPN 57354 GA</td>\n",
       "      <td>2719</td>\n",
       "      <td>62</td>\n",
       "      <td>381</td>\n",
       "      <td>255</td>\n",
       "      <td>0</td>\n",
       "      <td>0</td>\n",
       "      <td>0</td>\n",
       "      <td>3</td>\n",
       "      <td>0.312764</td>\n",
       "    </tr>\n",
       "    <tr>\n",
       "      <th>3</th>\n",
       "      <td>16</td>\n",
       "      <td>Uniglomerular mALT VA6 adPN 017 DB</td>\n",
       "      <td>14407</td>\n",
       "      <td>510</td>\n",
       "      <td>2552</td>\n",
       "      <td>1615</td>\n",
       "      <td>0</td>\n",
       "      <td>0</td>\n",
       "      <td>9</td>\n",
       "      <td>2</td>\n",
       "      <td>0.249247</td>\n",
       "    </tr>\n",
       "    <tr>\n",
       "      <th>4</th>\n",
       "      <td>57361</td>\n",
       "      <td>Uniglomerular mALT VA5 lPN 57362 ML</td>\n",
       "      <td>4089</td>\n",
       "      <td>169</td>\n",
       "      <td>875</td>\n",
       "      <td>247</td>\n",
       "      <td>0</td>\n",
       "      <td>0</td>\n",
       "      <td>9</td>\n",
       "      <td>3</td>\n",
       "      <td>0.110661</td>\n",
       "    </tr>\n",
       "  </tbody>\n",
       "</table>\n",
       "</div>"
      ],
      "text/plain": [
       "        id                                         name  axon_pre  axon_post  \\\n",
       "0  2863104  Uniglomerular mALT DA1 lPN 57316 2863105 ML      3657        132   \n",
       "1    57349         Uniglomerular mALT DA3 adPN 57350 HG      1910         93   \n",
       "2    57353          Uniglomerular mALT DA1 lPN 57354 GA      2719         62   \n",
       "3       16           Uniglomerular mALT VA6 adPN 017 DB     14407        510   \n",
       "4    57361          Uniglomerular mALT VA5 lPN 57362 ML      4089        169   \n",
       "\n",
       "   dendrite_pre  dendrite_post  cellbodyfiber_pre  cellbodyfiber_post  \\\n",
       "0           504            371                  0                   1   \n",
       "1          1623            148                  0                   0   \n",
       "2           381            255                  0                   0   \n",
       "3          2552           1615                  0                   0   \n",
       "4           875            247                  0                   0   \n",
       "\n",
       "   linker_pre  linker_post        SI  \n",
       "0           0            0  0.267004  \n",
       "1           0            0  0.012125  \n",
       "2           0            3  0.312764  \n",
       "3           9            2  0.249247  \n",
       "4           9            3  0.110661  "
      ]
     },
     "execution_count": 12,
     "metadata": {},
     "output_type": "execute_result"
    }
   ],
   "source": [
    "# First: a summary of # of pre/postsynapses that ended up on axon vs dendrite\n",
    "summary = pd.DataFrame([])\n",
    "summary['id'] = axons.id\n",
    "summary['name'] = axons.name\n",
    "for cmp  in ['axon', 'dendrite', 'cellbodyfiber', 'linker']:\n",
    "    this = splits[splits.compartment == cmp]\n",
    "    this_pre = dict(zip(this.id, this.n_presynapses))\n",
    "    this_post = dict(zip(this.id, this.n_postsynapses))\n",
    "    summary[f'{cmp}_pre'] = summary.id.map(this_pre).fillna(0)\n",
    "    summary[f'{cmp}_post'] = summary.id.map(this_post).fillna(0)\n",
    "\n",
    "navis.set_loggers('ERROR')    \n",
    "summary['SI'] = [navis.segregation_index(axon_dendrites.idx[s]) for s in summary['id'].values]\n",
    "navis.set_loggers('WARNING')\n",
    "    \n",
    "summary.head()"
   ]
  },
  {
   "cell_type": "code",
   "execution_count": 13,
   "metadata": {},
   "outputs": [
    {
     "data": {
      "text/html": [
       "<div>\n",
       "<style scoped>\n",
       "    .dataframe tbody tr th:only-of-type {\n",
       "        vertical-align: middle;\n",
       "    }\n",
       "\n",
       "    .dataframe tbody tr th {\n",
       "        vertical-align: top;\n",
       "    }\n",
       "\n",
       "    .dataframe thead th {\n",
       "        text-align: right;\n",
       "    }\n",
       "</style>\n",
       "<table border=\"1\" class=\"dataframe\">\n",
       "  <thead>\n",
       "    <tr style=\"text-align: right;\">\n",
       "      <th></th>\n",
       "      <th>id</th>\n",
       "      <th>name</th>\n",
       "      <th>axon_pre</th>\n",
       "      <th>axon_post</th>\n",
       "      <th>dendrite_pre</th>\n",
       "      <th>dendrite_post</th>\n",
       "      <th>cellbodyfiber_pre</th>\n",
       "      <th>cellbodyfiber_post</th>\n",
       "      <th>linker_pre</th>\n",
       "      <th>linker_post</th>\n",
       "      <th>SI</th>\n",
       "      <th>ntype</th>\n",
       "      <th>trivial</th>\n",
       "    </tr>\n",
       "  </thead>\n",
       "  <tbody>\n",
       "    <tr>\n",
       "      <th>0</th>\n",
       "      <td>2863104</td>\n",
       "      <td>Uniglomerular mALT DA1 lPN 57316 2863105 ML</td>\n",
       "      <td>3657</td>\n",
       "      <td>132</td>\n",
       "      <td>504</td>\n",
       "      <td>371</td>\n",
       "      <td>0</td>\n",
       "      <td>1</td>\n",
       "      <td>0</td>\n",
       "      <td>0</td>\n",
       "      <td>0.267004</td>\n",
       "      <td>uPN</td>\n",
       "      <td>lPN</td>\n",
       "    </tr>\n",
       "    <tr>\n",
       "      <th>1</th>\n",
       "      <td>57349</td>\n",
       "      <td>Uniglomerular mALT DA3 adPN 57350 HG</td>\n",
       "      <td>1910</td>\n",
       "      <td>93</td>\n",
       "      <td>1623</td>\n",
       "      <td>148</td>\n",
       "      <td>0</td>\n",
       "      <td>0</td>\n",
       "      <td>0</td>\n",
       "      <td>0</td>\n",
       "      <td>0.012125</td>\n",
       "      <td>uPN</td>\n",
       "      <td>adPN</td>\n",
       "    </tr>\n",
       "    <tr>\n",
       "      <th>2</th>\n",
       "      <td>57353</td>\n",
       "      <td>Uniglomerular mALT DA1 lPN 57354 GA</td>\n",
       "      <td>2719</td>\n",
       "      <td>62</td>\n",
       "      <td>381</td>\n",
       "      <td>255</td>\n",
       "      <td>0</td>\n",
       "      <td>0</td>\n",
       "      <td>0</td>\n",
       "      <td>3</td>\n",
       "      <td>0.312764</td>\n",
       "      <td>uPN</td>\n",
       "      <td>lPN</td>\n",
       "    </tr>\n",
       "    <tr>\n",
       "      <th>3</th>\n",
       "      <td>16</td>\n",
       "      <td>Uniglomerular mALT VA6 adPN 017 DB</td>\n",
       "      <td>14407</td>\n",
       "      <td>510</td>\n",
       "      <td>2552</td>\n",
       "      <td>1615</td>\n",
       "      <td>0</td>\n",
       "      <td>0</td>\n",
       "      <td>9</td>\n",
       "      <td>2</td>\n",
       "      <td>0.249247</td>\n",
       "      <td>uPN</td>\n",
       "      <td>adPN</td>\n",
       "    </tr>\n",
       "    <tr>\n",
       "      <th>4</th>\n",
       "      <td>57361</td>\n",
       "      <td>Uniglomerular mALT VA5 lPN 57362 ML</td>\n",
       "      <td>4089</td>\n",
       "      <td>169</td>\n",
       "      <td>875</td>\n",
       "      <td>247</td>\n",
       "      <td>0</td>\n",
       "      <td>0</td>\n",
       "      <td>9</td>\n",
       "      <td>3</td>\n",
       "      <td>0.110661</td>\n",
       "      <td>uPN</td>\n",
       "      <td>lPN</td>\n",
       "    </tr>\n",
       "  </tbody>\n",
       "</table>\n",
       "</div>"
      ],
      "text/plain": [
       "        id                                         name  axon_pre  axon_post  \\\n",
       "0  2863104  Uniglomerular mALT DA1 lPN 57316 2863105 ML      3657        132   \n",
       "1    57349         Uniglomerular mALT DA3 adPN 57350 HG      1910         93   \n",
       "2    57353          Uniglomerular mALT DA1 lPN 57354 GA      2719         62   \n",
       "3       16           Uniglomerular mALT VA6 adPN 017 DB     14407        510   \n",
       "4    57361          Uniglomerular mALT VA5 lPN 57362 ML      4089        169   \n",
       "\n",
       "   dendrite_pre  dendrite_post  cellbodyfiber_pre  cellbodyfiber_post  \\\n",
       "0           504            371                  0                   1   \n",
       "1          1623            148                  0                   0   \n",
       "2           381            255                  0                   0   \n",
       "3          2552           1615                  0                   0   \n",
       "4           875            247                  0                   0   \n",
       "\n",
       "   linker_pre  linker_post        SI ntype trivial  \n",
       "0           0            0  0.267004   uPN     lPN  \n",
       "1           0            0  0.012125   uPN    adPN  \n",
       "2           0            3  0.312764   uPN     lPN  \n",
       "3           9            2  0.249247   uPN    adPN  \n",
       "4           9            3  0.110661   uPN     lPN  "
      ]
     },
     "execution_count": 13,
     "metadata": {},
     "output_type": "execute_result"
    }
   ],
   "source": [
    "# Add some extra info like lineage and PN-type to the dataframe\n",
    "import re\n",
    "\n",
    "def get_lineage(x):\n",
    "    if 'VUMa2' in x:\n",
    "        return 'VUMa2'\n",
    "    return re.search('.* (.*PN) ', x).group(1)\n",
    "\n",
    "summary['ntype'] = 'mPN'\n",
    "summary['trivial'] = summary.name.map(get_lineage)\n",
    "summary.loc[summary['id'].isin(pns.has_annotation('WTPN2017_class_uPN_right').id),  'ntype'] = 'uPN'\n",
    "summary.head()"
   ]
  },
  {
   "cell_type": "code",
   "execution_count": 104,
   "metadata": {},
   "outputs": [
    {
     "data": {
      "text/html": [
       "<div>\n",
       "<style scoped>\n",
       "    .dataframe tbody tr th:only-of-type {\n",
       "        vertical-align: middle;\n",
       "    }\n",
       "\n",
       "    .dataframe tbody tr th {\n",
       "        vertical-align: top;\n",
       "    }\n",
       "\n",
       "    .dataframe thead th {\n",
       "        text-align: right;\n",
       "    }\n",
       "</style>\n",
       "<table border=\"1\" class=\"dataframe\">\n",
       "  <thead>\n",
       "    <tr style=\"text-align: right;\">\n",
       "      <th></th>\n",
       "      <th>count</th>\n",
       "      <th>mean</th>\n",
       "      <th>std</th>\n",
       "      <th>min</th>\n",
       "      <th>25%</th>\n",
       "      <th>50%</th>\n",
       "      <th>75%</th>\n",
       "      <th>max</th>\n",
       "    </tr>\n",
       "    <tr>\n",
       "      <th>ntype</th>\n",
       "      <th></th>\n",
       "      <th></th>\n",
       "      <th></th>\n",
       "      <th></th>\n",
       "      <th></th>\n",
       "      <th></th>\n",
       "      <th></th>\n",
       "      <th></th>\n",
       "    </tr>\n",
       "  </thead>\n",
       "  <tbody>\n",
       "    <tr>\n",
       "      <th>mPN</th>\n",
       "      <td>185.0</td>\n",
       "      <td>0.285908</td>\n",
       "      <td>0.199610</td>\n",
       "      <td>0.001921</td>\n",
       "      <td>0.126270</td>\n",
       "      <td>0.241799</td>\n",
       "      <td>0.444348</td>\n",
       "      <td>0.835853</td>\n",
       "    </tr>\n",
       "    <tr>\n",
       "      <th>uPN</th>\n",
       "      <td>163.0</td>\n",
       "      <td>0.286055</td>\n",
       "      <td>0.168866</td>\n",
       "      <td>0.012125</td>\n",
       "      <td>0.188356</td>\n",
       "      <td>0.253464</td>\n",
       "      <td>0.308838</td>\n",
       "      <td>0.827723</td>\n",
       "    </tr>\n",
       "  </tbody>\n",
       "</table>\n",
       "</div>"
      ],
      "text/plain": [
       "       count      mean       std       min       25%       50%       75%  \\\n",
       "ntype                                                                      \n",
       "mPN    185.0  0.285908  0.199610  0.001921  0.126270  0.241799  0.444348   \n",
       "uPN    163.0  0.286055  0.168866  0.012125  0.188356  0.253464  0.308838   \n",
       "\n",
       "            max  \n",
       "ntype            \n",
       "mPN    0.835853  \n",
       "uPN    0.827723  "
      ]
     },
     "execution_count": 104,
     "metadata": {},
     "output_type": "execute_result"
    }
   ],
   "source": [
    "# Quick sanity check\n",
    "summary.groupby('ntype').SI.describe()"
   ]
  },
  {
   "cell_type": "markdown",
   "metadata": {},
   "source": [
    "### Another round of plotting"
   ]
  },
  {
   "cell_type": "code",
   "execution_count": 108,
   "metadata": {},
   "outputs": [
    {
     "data": {
      "image/png": "[encoded data removed]",
      "text/plain": [
       "<Figure size 432x288 with 1 Axes>"
      ]
     },
     "metadata": {
      "needs_background": "light"
     },
     "output_type": "display_data"
    }
   ],
   "source": [
    "# Plot overview - also sanity check\n",
    "summary['axon_io'] = summary.axon_pre / summary.axon_post\n",
    "summary['dend_io'] = summary.dendrite_pre / summary.dendrite_post\n",
    "ax = sns.scatterplot(data=summary, x='axon_io', y='dend_io', color='firebrick', hue='ntype', alpha=.5, size='SI')\n",
    "#ax = sns.kdeplot(data=summary, x=\"axon_io\", y=\"dend_io\", hue=\"ntype\")\n",
    "\n",
    "ax.set_xlabel('pre vs post ratio\\naxon ')\n",
    "ax.set_ylabel('pre vs post ratio\\ndendrite')\n",
    "\n",
    "sns.despine(trim=True)"
   ]
  },
  {
   "cell_type": "code",
   "execution_count": 107,
   "metadata": {},
   "outputs": [
    {
     "data": {
      "image/png": "[encoded data removed]",
      "text/plain": [
       "<Figure size 432x288 with 1 Axes>"
      ]
     },
     "metadata": {
      "needs_background": "light"
     },
     "output_type": "display_data"
    }
   ],
   "source": [
    "summary['axon_io'] = summary.axon_pre / summary.axon_post\n",
    "summary['dend_io'] = summary.dendrite_pre / summary.dendrite_post\n",
    "#ax = sns.scatterplot(data=summary, x='axon_io', y='dend_io', color='firebrick', hue='ntype', alpha=.5)\n",
    "ax = sns.kdeplot(data=summary, x=\"axon_io\", y=\"dend_io\", hue=\"ntype\")\n",
    "\n",
    "ax.set_xlabel('pre vs post ratio\\naxon ')\n",
    "ax.set_ylabel('pre vs post ratio\\ndendrite')\n",
    "\n",
    "sns.despine(trim=True)\n"
   ]
  },
  {
   "cell_type": "code",
   "execution_count": 106,
   "metadata": {},
   "outputs": [
    {
     "data": {
      "image/png": "[encoded data removed]",
      "text/plain": [
       "<Figure size 432x288 with 1 Axes>"
      ]
     },
     "metadata": {
      "needs_background": "light"
     },
     "output_type": "display_data"
    }
   ],
   "source": [
    "sns.set_color_codes('muted')\n",
    "\n",
    "ax = None\n",
    "ax = sns.regplot(data=summary, x='axon_pre', y='axon_post', color='firebrick', ax=ax, label='axon', scatter_kws={'alpha':.25})\n",
    "ax = sns.regplot(data=summary, x='dendrite_pre', y='dendrite_post', color='royalblue', ax=ax, label='dendrites', scatter_kws={'alpha':.25})\n",
    "\n",
    "ax.set_xlabel('presynapses')\n",
    "ax.set_ylabel('postsynapses')\n",
    "\n",
    "l = ax.legend()\n",
    "l.set_title('')\n",
    "\n",
    "#_ = ax.plot([0,8000], [0, 8000], ls='--', alpha=.7, c='k', zorder=0)\n",
    "\n",
    "sns.despine(trim=True)\n",
    "plt.tight_layout()\n",
    "plt.savefig('prepost_axon_dendr.pdf', transparent=True)"
   ]
  },
  {
   "cell_type": "code",
   "execution_count": 204,
   "metadata": {},
   "outputs": [
    {
     "data": {
      "image/png": "[encoded data removed]",
      "text/plain": [
       "<Figure size 432x288 with 1 Axes>"
      ]
     },
     "metadata": {
      "needs_background": "light"
     },
     "output_type": "display_data"
    }
   ],
   "source": [
    "sns.set_color_codes('muted')\n",
    "\n",
    "summary2 = summary.copy()\n",
    "summary2['ntype_axon'] = ''\n",
    "summary2['ntype_dendrites'] = ''\n",
    "summary2.loc[summary2.ntype == 'uPN', 'ntype_axon'] = 'uPN axon'\n",
    "summary2.loc[summary2.ntype == 'mPN', 'ntype_axon'] = 'mPN axon'\n",
    "summary2.loc[summary2.ntype == 'uPN', 'ntype_dendrites'] = 'uPN dendr.'\n",
    "summary2.loc[summary2.ntype == 'mPN', 'ntype_dendrites'] = 'mPN dendr.'\n",
    "\n",
    "ax = None\n",
    "ax = sns.regplot(data=summary2, x='axon_pre', y='axon_post', color='red', ax=ax, scatter=False)\n",
    "ax = sns.regplot(data=summary2, x='dendrite_pre', y='dendrite_post', color='blue', ax=ax, scatter=False)\n",
    "ax = sns.scatterplot(data=summary2, x='axon_pre', y='axon_post', hue='ntype_axon', palette=['darkred', 'coral'], ax=ax, alpha=.5, zorder=100)\n",
    "ax = sns.scatterplot(data=summary2, x='dendrite_pre', y='dendrite_post', hue='ntype_dendrites', palette=['darkblue', 'lightblue'], ax=ax, alpha=.5, zorder=100)\n",
    "\n",
    "ax.set_xlabel('presynapses')\n",
    "ax.set_ylabel('postsynapses')\n",
    "\n",
    "l = ax.get_legend()\n",
    "l.set_title('')\n",
    "\n",
    "_ = ax.plot([0,8000], [0, 8000], ls='--', alpha=.7, c='k', zorder=0)\n",
    "\n",
    "sns.despine(trim=True)"
   ]
  },
  {
   "cell_type": "code",
   "execution_count": 105,
   "metadata": {},
   "outputs": [
    {
     "data": {
      "image/png": "[encoded data removed]",
      "text/plain": [
       "<Figure size 396x144 with 1 Axes>"
      ]
     },
     "metadata": {
      "needs_background": "light"
     },
     "output_type": "display_data"
    }
   ],
   "source": [
    "fig, ax = plt.subplots(figsize=(5.5, 2))\n",
    "\n",
    "ax = sns.boxenplot(data=summary, y='ntype', x='SI', color='slategrey', ax=ax)\n",
    "\n",
    "ax.set_ylabel('')\n",
    "ax.set_xlabel('axon-dendrite segregation index')\n",
    "\n",
    "ax.set_yticklabels(['uniglomerular\\nPN', 'multiglomerular\\nPN'])\n",
    "\n",
    "sns.despine(trim=True)\n",
    "plt.tight_layout()\n",
    "plt.savefig('uPN_mPN_seg_index.pdf', transparent=True)"
   ]
  },
  {
   "cell_type": "markdown",
   "metadata": {},
   "source": [
    "### Out of curiosity: compare manually placed and automatically detected synapse numbers"
   ]
  },
  {
   "cell_type": "code",
   "execution_count": 29,
   "metadata": {},
   "outputs": [
    {
     "name": "stdout",
     "output_type": "stream",
     "text": [
      "A connection to a database already exists. Call get_connection() with `force_reconnect=True` to force re-initialization.\n"
     ]
    },
    {
     "name": "stderr",
     "output_type": "stream",
     "text": [
      "                                                                    \r"
     ]
    },
    {
     "data": {
      "application/vnd.jupyter.widget-view+json": {
       "model_id": "",
       "version_major": 2,
       "version_minor": 0
      },
      "text/plain": [
       "HBox(children=(HTML(value='Proc. neurons'), FloatProgress(value=0.0, max=2.0), HTML(value='')))"
      ]
     },
     "metadata": {},
     "output_type": "display_data"
    }
   ],
   "source": [
    "# Let's check Picard and Flywalkies which we have traced extensively (including all synapses) in CATMAID\n",
    "picard = pns.idx[709943]\n",
    "picard_syn = picard.copy()\n",
    "\n",
    "flywalkies = pns.idx[32793]\n",
    "flywalkies_syn = flywalkies.copy()\n",
    "\n",
    "synapses.get_neuron_synapses(navis.NeuronList([picard_syn, flywalkies_syn]),\n",
    "                             db='csv_agglomerated.db',\n",
    "                             ol_thresh=2, attach=True, collapse_connectors=False)"
   ]
  },
  {
   "cell_type": "code",
   "execution_count": 75,
   "metadata": {},
   "outputs": [
    {
     "data": {
      "image/png": "[encoded data removed]",
      "text/plain": [
       "<Figure size 432x432 with 1 Axes>"
      ]
     },
     "metadata": {
      "needs_background": "light"
     },
     "output_type": "display_data"
    }
   ],
   "source": [
    "picard.reroot(picard.soma, inplace=True)\n",
    "navis.strahler_index(picard, method='greedy')\n",
    "\n",
    "fig, ax = navis.plot2d(picard_man,\n",
    "                       connectors=False, lw=1.5, color_by='strahler_index',\n",
    "                       palette='viridis_r')\n",
    "ax.elev, ax.azim, ax.dist = -90, -90, 5"
   ]
  },
  {
   "cell_type": "code",
   "execution_count": 116,
   "metadata": {
    "collapsed": true
   },
   "outputs": [],
   "source": [
    "fig, ax = navis.plot2d(picard,\n",
    "                       connectors=False, lw=4, color='k')\n",
    "ax.elev, ax.azim, ax.dist = -90, -90, 5\n",
    "plt.savefig('picard_no_prune.png', dpi=300, transparent=True)\n",
    "plt.close()\n",
    "\n",
    "xlim, ylim, zlim = ax.get_xlim(), ax.get_ylim(), ax.get_zlim()\n",
    "\n",
    "for i in range(1, 4):\n",
    "    keep = picard.nodes.strahler_index > i\n",
    "    pruned = navis.subset_neuron(picard, picard.nodes.loc[~keep, 'node_id'].values)\n",
    "    remainder = navis.subset_neuron(picard, picard.nodes.loc[keep, 'node_id'].values)\n",
    "    \n",
    "    fig, ax = navis.plot2d(remainder,\n",
    "                           connectors=False, lw=4, color='k')\n",
    "    fig, ax = navis.plot2d(pruned,\n",
    "                           connectors=False, lw=3., color='lightgrey', ls='-', ax=ax, alpha=.5)\n",
    "    ax.elev, ax.azim, ax.dist = -90, -90, 5\n",
    "    \n",
    "    ax.set_xlim(xlim)\n",
    "    ax.set_ylim(ylim)\n",
    "    ax.set_zlim(zlim)\n",
    "    \n",
    "    plt.savefig(f'picard_prune_{i}.png', dpi=300, transparent=True)\n",
    "    plt.close()"
   ]
  },
  {
   "cell_type": "code",
   "execution_count": 36,
   "metadata": {},
   "outputs": [
    {
     "name": "stdout",
     "output_type": "stream",
     "text": [
      "Picard presynapses: 107 manual vs 1786 Buhmann\n",
      "Picard postsynapses: 643 manual vs 755 Buhmann\n",
      "FlyWalkies presynapses: 800 manual vs 8037 Buhmann\n",
      "FlyWalkies postsynapses: 2108 manual vs 1691 Buhmann\n"
     ]
    }
   ],
   "source": [
    "print(f'Picard presynapses: {picard_man.n_presynapses} manual vs {picard_syn.n_presynapses} Buhmann')\n",
    "print(f'Picard postsynapses: {picard_man.n_postsynapses} manual vs {picard_syn.n_postsynapses} Buhmann')\n",
    "\n",
    "print(f'FlyWalkies presynapses: {flywalkies_man.n_presynapses} manual vs {flywalkies_syn.n_presynapses} Buhmann')\n",
    "print(f'FlyWalkies postsynapses: {flywalkies_man.n_postsynapses} manual vs {flywalkies_syn.n_postsynapses} Buhmann')"
   ]
  },
  {
   "cell_type": "code",
   "execution_count": 40,
   "metadata": {},
   "outputs": [
    {
     "data": {
      "application/vnd.jupyter.widget-view+json": {
       "model_id": "",
       "version_major": 2,
       "version_minor": 0
      },
      "text/plain": [
       "HBox(children=(HTML(value='Calc. SI'), FloatProgress(value=0.0, max=2.0), HTML(value='')))"
      ]
     },
     "metadata": {},
     "output_type": "display_data"
    },
    {
     "name": "stderr",
     "output_type": "stream",
     "text": [
      "INFO  : Cached data used. Use `pymaid.clear_cache()` to clear. (pymaid)\n"
     ]
    }
   ],
   "source": [
    "navis.strahler_index(navis.NeuronList([picard, flywalkies]), method='greedy')\n",
    "al = pymaid.get_volume('AL_R')"
   ]
  },
  {
   "cell_type": "code",
   "execution_count": 67,
   "metadata": {
    "collapsed": true,
    "jupyter": {
     "outputs_hidden": true
    }
   },
   "outputs": [
    {
     "name": "stdout",
     "output_type": "stream",
     "text": [
      "A connection to a database already exists. Call get_connection() with `force_reconnect=True` to force re-initialization.\n"
     ]
    },
    {
     "name": "stderr",
     "output_type": "stream",
     "text": [
      "                                                                    \r"
     ]
    },
    {
     "data": {
      "application/vnd.jupyter.widget-view+json": {
       "model_id": "",
       "version_major": 2,
       "version_minor": 0
      },
      "text/plain": [
       "HBox(children=(HTML(value='Proc. neurons'), FloatProgress(value=0.0, max=2.0), HTML(value='')))"
      ]
     },
     "metadata": {},
     "output_type": "display_data"
    },
    {
     "data": {
      "application/vnd.jupyter.widget-view+json": {
       "model_id": "",
       "version_major": 2,
       "version_minor": 0
      },
      "text/plain": [
       "HBox(children=(HTML(value='Pruning'), FloatProgress(value=0.0, max=2.0), HTML(value='')))"
      ]
     },
     "metadata": {},
     "output_type": "display_data"
    },
    {
     "data": {
      "application/vnd.jupyter.widget-view+json": {
       "model_id": "",
       "version_major": 2,
       "version_minor": 0
      },
      "text/plain": [
       "HBox(children=(HTML(value='Pruning'), FloatProgress(value=0.0, max=2.0), HTML(value='')))"
      ]
     },
     "metadata": {},
     "output_type": "display_data"
    },
    {
     "data": {
      "application/vnd.jupyter.widget-view+json": {
       "model_id": "",
       "version_major": 2,
       "version_minor": 0
      },
      "text/plain": [
       "HBox(children=(HTML(value='Pruning'), FloatProgress(value=0.0, max=2.0), HTML(value='')))"
      ]
     },
     "metadata": {},
     "output_type": "display_data"
    },
    {
     "data": {
      "application/vnd.jupyter.widget-view+json": {
       "model_id": "",
       "version_major": 2,
       "version_minor": 0
      },
      "text/plain": [
       "HBox(children=(HTML(value='Pruning'), FloatProgress(value=0.0, max=2.0), HTML(value='')))"
      ]
     },
     "metadata": {},
     "output_type": "display_data"
    },
    {
     "name": "stdout",
     "output_type": "stream",
     "text": [
      "A connection to a database already exists. Call get_connection() with `force_reconnect=True` to force re-initialization.\n"
     ]
    },
    {
     "name": "stderr",
     "output_type": "stream",
     "text": [
      "                                                                    \r"
     ]
    },
    {
     "data": {
      "application/vnd.jupyter.widget-view+json": {
       "model_id": "",
       "version_major": 2,
       "version_minor": 0
      },
      "text/plain": [
       "HBox(children=(HTML(value='Proc. neurons'), FloatProgress(value=0.0, max=2.0), HTML(value='')))"
      ]
     },
     "metadata": {},
     "output_type": "display_data"
    },
    {
     "data": {
      "application/vnd.jupyter.widget-view+json": {
       "model_id": "",
       "version_major": 2,
       "version_minor": 0
      },
      "text/plain": [
       "HBox(children=(HTML(value='Pruning'), FloatProgress(value=0.0, max=2.0), HTML(value='')))"
      ]
     },
     "metadata": {},
     "output_type": "display_data"
    },
    {
     "name": "stdout",
     "output_type": "stream",
     "text": [
      "A connection to a database already exists. Call get_connection() with `force_reconnect=True` to force re-initialization.\n"
     ]
    },
    {
     "name": "stderr",
     "output_type": "stream",
     "text": [
      "                                                                    \r"
     ]
    },
    {
     "data": {
      "application/vnd.jupyter.widget-view+json": {
       "model_id": "",
       "version_major": 2,
       "version_minor": 0
      },
      "text/plain": [
       "HBox(children=(HTML(value='Proc. neurons'), FloatProgress(value=0.0, max=2.0), HTML(value='')))"
      ]
     },
     "metadata": {},
     "output_type": "display_data"
    },
    {
     "data": {
      "application/vnd.jupyter.widget-view+json": {
       "model_id": "",
       "version_major": 2,
       "version_minor": 0
      },
      "text/plain": [
       "HBox(children=(HTML(value='Pruning'), FloatProgress(value=0.0, max=2.0), HTML(value='')))"
      ]
     },
     "metadata": {},
     "output_type": "display_data"
    },
    {
     "name": "stdout",
     "output_type": "stream",
     "text": [
      "A connection to a database already exists. Call get_connection() with `force_reconnect=True` to force re-initialization.\n"
     ]
    },
    {
     "name": "stderr",
     "output_type": "stream",
     "text": [
      "                                                                    \r"
     ]
    },
    {
     "data": {
      "application/vnd.jupyter.widget-view+json": {
       "model_id": "",
       "version_major": 2,
       "version_minor": 0
      },
      "text/plain": [
       "HBox(children=(HTML(value='Proc. neurons'), FloatProgress(value=0.0, max=2.0), HTML(value='')))"
      ]
     },
     "metadata": {},
     "output_type": "display_data"
    },
    {
     "data": {
      "application/vnd.jupyter.widget-view+json": {
       "model_id": "",
       "version_major": 2,
       "version_minor": 0
      },
      "text/plain": [
       "HBox(children=(HTML(value='Pruning'), FloatProgress(value=0.0, max=2.0), HTML(value='')))"
      ]
     },
     "metadata": {},
     "output_type": "display_data"
    },
    {
     "name": "stderr",
     "output_type": "stream",
     "text": [
      "Segment IDs:   0%|          | 0/15625 [00:00<?, ?it/s]"
     ]
    },
    {
     "name": "stdout",
     "output_type": "stream",
     "text": [
      "A connection to a database already exists. Call get_connection() with `force_reconnect=True` to force re-initialization.\n"
     ]
    },
    {
     "name": "stderr",
     "output_type": "stream",
     "text": [
      "                                                                    \r"
     ]
    },
    {
     "data": {
      "application/vnd.jupyter.widget-view+json": {
       "model_id": "",
       "version_major": 2,
       "version_minor": 0
      },
      "text/plain": [
       "HBox(children=(HTML(value='Proc. neurons'), FloatProgress(value=0.0, max=2.0), HTML(value='')))"
      ]
     },
     "metadata": {},
     "output_type": "display_data"
    },
    {
     "data": {
      "application/vnd.jupyter.widget-view+json": {
       "model_id": "",
       "version_major": 2,
       "version_minor": 0
      },
      "text/plain": [
       "HBox(children=(HTML(value='Pruning'), FloatProgress(value=0.0, max=2.0), HTML(value='')))"
      ]
     },
     "metadata": {},
     "output_type": "display_data"
    },
    {
     "name": "stderr",
     "output_type": "stream",
     "text": [
      "Segment IDs:   0%|          | 0/13390 [00:00<?, ?it/s]"
     ]
    },
    {
     "name": "stdout",
     "output_type": "stream",
     "text": [
      "A connection to a database already exists. Call get_connection() with `force_reconnect=True` to force re-initialization.\n"
     ]
    },
    {
     "name": "stderr",
     "output_type": "stream",
     "text": [
      "                                                                    \r"
     ]
    },
    {
     "data": {
      "application/vnd.jupyter.widget-view+json": {
       "model_id": "",
       "version_major": 2,
       "version_minor": 0
      },
      "text/plain": [
       "HBox(children=(HTML(value='Proc. neurons'), FloatProgress(value=0.0, max=2.0), HTML(value='')))"
      ]
     },
     "metadata": {},
     "output_type": "display_data"
    },
    {
     "data": {
      "text/html": [
       "<div>\n",
       "<style scoped>\n",
       "    .dataframe tbody tr th:only-of-type {\n",
       "        vertical-align: middle;\n",
       "    }\n",
       "\n",
       "    .dataframe tbody tr th {\n",
       "        vertical-align: top;\n",
       "    }\n",
       "\n",
       "    .dataframe thead th {\n",
       "        text-align: right;\n",
       "    }\n",
       "</style>\n",
       "<table border=\"1\" class=\"dataframe\">\n",
       "  <thead>\n",
       "    <tr style=\"text-align: right;\">\n",
       "      <th></th>\n",
       "      <th>type</th>\n",
       "      <th>name</th>\n",
       "      <th>id</th>\n",
       "      <th>n_nodes</th>\n",
       "      <th>n_connectors</th>\n",
       "      <th>n_branches</th>\n",
       "      <th>n_leafs</th>\n",
       "      <th>cable_length</th>\n",
       "      <th>soma</th>\n",
       "      <th>units</th>\n",
       "      <th>compartment</th>\n",
       "      <th>n_presynapses</th>\n",
       "      <th>n_postsynapses</th>\n",
       "      <th>n_presynapses_al</th>\n",
       "      <th>n_postsynapses_al</th>\n",
       "      <th>pruned_by</th>\n",
       "      <th>syn_recomputed</th>\n",
       "    </tr>\n",
       "  </thead>\n",
       "  <tbody>\n",
       "    <tr>\n",
       "      <th>0</th>\n",
       "      <td>CatmaidNeuron</td>\n",
       "      <td>Multiglomerular mlALT vPN VC4+DC4+DM4+11 LTS 0...</td>\n",
       "      <td>709943</td>\n",
       "      <td>10287</td>\n",
       "      <td>2541</td>\n",
       "      <td>423</td>\n",
       "      <td>434</td>\n",
       "      <td>2093654.750</td>\n",
       "      <td>[3348905]</td>\n",
       "      <td>1 nanometer</td>\n",
       "      <td>NA</td>\n",
       "      <td>1786</td>\n",
       "      <td>755</td>\n",
       "      <td>732</td>\n",
       "      <td>656</td>\n",
       "      <td>0</td>\n",
       "      <td>False</td>\n",
       "    </tr>\n",
       "    <tr>\n",
       "      <th>1</th>\n",
       "      <td>CatmaidNeuron</td>\n",
       "      <td>Multiglomerular mALT l2PN VM1+VP2+VP3+23 LTS 0...</td>\n",
       "      <td>32793</td>\n",
       "      <td>32757</td>\n",
       "      <td>9728</td>\n",
       "      <td>1956</td>\n",
       "      <td>2008</td>\n",
       "      <td>6449531.500</td>\n",
       "      <td>[11614584]</td>\n",
       "      <td>1 nanometer</td>\n",
       "      <td>NA</td>\n",
       "      <td>8037</td>\n",
       "      <td>1691</td>\n",
       "      <td>1057</td>\n",
       "      <td>1448</td>\n",
       "      <td>0</td>\n",
       "      <td>False</td>\n",
       "    </tr>\n",
       "    <tr>\n",
       "      <th>0</th>\n",
       "      <td>CatmaidNeuron</td>\n",
       "      <td>Multiglomerular mlALT vPN VC4+DC4+DM4+11 LTS 0...</td>\n",
       "      <td>709943</td>\n",
       "      <td>6548</td>\n",
       "      <td>1484</td>\n",
       "      <td>102</td>\n",
       "      <td>105</td>\n",
       "      <td>1543003.875</td>\n",
       "      <td>[3348905]</td>\n",
       "      <td>1 nanometer</td>\n",
       "      <td>NA</td>\n",
       "      <td>1099</td>\n",
       "      <td>385</td>\n",
       "      <td>439</td>\n",
       "      <td>353</td>\n",
       "      <td>1</td>\n",
       "      <td>False</td>\n",
       "    </tr>\n",
       "    <tr>\n",
       "      <th>1</th>\n",
       "      <td>CatmaidNeuron</td>\n",
       "      <td>Multiglomerular mALT l2PN VM1+VP2+VP3+23 LTS 0...</td>\n",
       "      <td>32793</td>\n",
       "      <td>19077</td>\n",
       "      <td>5402</td>\n",
       "      <td>513</td>\n",
       "      <td>519</td>\n",
       "      <td>4384042.000</td>\n",
       "      <td>[11614584]</td>\n",
       "      <td>1 nanometer</td>\n",
       "      <td>NA</td>\n",
       "      <td>4758</td>\n",
       "      <td>644</td>\n",
       "      <td>687</td>\n",
       "      <td>574</td>\n",
       "      <td>1</td>\n",
       "      <td>False</td>\n",
       "    </tr>\n",
       "    <tr>\n",
       "      <th>0</th>\n",
       "      <td>CatmaidNeuron</td>\n",
       "      <td>Multiglomerular mlALT vPN VC4+DC4+DM4+11 LTS 0...</td>\n",
       "      <td>709943</td>\n",
       "      <td>5194</td>\n",
       "      <td>1172</td>\n",
       "      <td>65</td>\n",
       "      <td>67</td>\n",
       "      <td>1312657.250</td>\n",
       "      <td>[3348905]</td>\n",
       "      <td>1 nanometer</td>\n",
       "      <td>NA</td>\n",
       "      <td>902</td>\n",
       "      <td>270</td>\n",
       "      <td>366</td>\n",
       "      <td>246</td>\n",
       "      <td>2</td>\n",
       "      <td>False</td>\n",
       "    </tr>\n",
       "  </tbody>\n",
       "</table>\n",
       "</div>"
      ],
      "text/plain": [
       "            type                                               name      id  \\\n",
       "0  CatmaidNeuron  Multiglomerular mlALT vPN VC4+DC4+DM4+11 LTS 0...  709943   \n",
       "1  CatmaidNeuron  Multiglomerular mALT l2PN VM1+VP2+VP3+23 LTS 0...   32793   \n",
       "0  CatmaidNeuron  Multiglomerular mlALT vPN VC4+DC4+DM4+11 LTS 0...  709943   \n",
       "1  CatmaidNeuron  Multiglomerular mALT l2PN VM1+VP2+VP3+23 LTS 0...   32793   \n",
       "0  CatmaidNeuron  Multiglomerular mlALT vPN VC4+DC4+DM4+11 LTS 0...  709943   \n",
       "\n",
       "   n_nodes  n_connectors  n_branches  n_leafs  cable_length        soma  \\\n",
       "0    10287          2541         423      434   2093654.750   [3348905]   \n",
       "1    32757          9728        1956     2008   6449531.500  [11614584]   \n",
       "0     6548          1484         102      105   1543003.875   [3348905]   \n",
       "1    19077          5402         513      519   4384042.000  [11614584]   \n",
       "0     5194          1172          65       67   1312657.250   [3348905]   \n",
       "\n",
       "         units compartment  n_presynapses  n_postsynapses  n_presynapses_al  \\\n",
       "0  1 nanometer          NA           1786             755               732   \n",
       "1  1 nanometer          NA           8037            1691              1057   \n",
       "0  1 nanometer          NA           1099             385               439   \n",
       "1  1 nanometer          NA           4758             644               687   \n",
       "0  1 nanometer          NA            902             270               366   \n",
       "\n",
       "   n_postsynapses_al  pruned_by  syn_recomputed  \n",
       "0                656          0           False  \n",
       "1               1448          0           False  \n",
       "0                353          1           False  \n",
       "1                574          1           False  \n",
       "0                246          2           False  "
      ]
     },
     "execution_count": 67,
     "metadata": {},
     "output_type": "execute_result"
    }
   ],
   "source": [
    "to_prune = navis.NeuronList([picard, flywalkies]).copy()\n",
    "\n",
    "pruning_data = []\n",
    "\n",
    "# Run one round where we just prune the neuron without re-assigning the synapses\n",
    "synapses.get_neuron_synapses(to_prune,\n",
    "                             db='sv_agglomerated.db', ol_thresh=2, attach=True, collapse_connectors=False)\n",
    "\n",
    "for i in range(0, 5):\n",
    "    # Prune neuron by strahler order\n",
    "    if i > 0:\n",
    "        pruned = navis.prune_by_strahler(to_prune, to_prune=slice(0, i))\n",
    "    else:\n",
    "        pruned = to_prune.copy()\n",
    "        \n",
    "    # Check which ones are in the AL before re-assignement\n",
    "    for n in pruned:\n",
    "        n.connectors['in_al'] = navis.in_volume(n.connectors[['x', 'y', 'z']].values, al)\n",
    "        n.n_presynapses_al = n.connectors[n.connectors.in_al & (n.connectors.type == 'pre')].shape[0]\n",
    "        n.n_postsynapses_al = n.connectors[n.connectors.in_al & (n.connectors.type == 'post')].shape[0]\n",
    "        n.pruned_by = i        \n",
    "        \n",
    "    pruning_data.append(pruned.summary(add_props=['n_presynapses', 'n_postsynapses', 'n_presynapses_al', 'n_postsynapses_al', 'pruned_by']))\n",
    "    pruning_data[-1]['syn_recomputed'] = False        \n",
    "\n",
    "\n",
    "# Run another round where we re-assign synapses after pruning - this way the segmentation can \n",
    "# help us catch some of the bits we have missed. Addresses a slightly different question\n",
    "for i in range(0, 5):\n",
    "    # Prune neuron by strahler order\n",
    "    if i > 0:\n",
    "        pruned = navis.prune_by_strahler(to_prune, to_prune=slice(0, i))\n",
    "    else:\n",
    "        pruned = to_prune.copy()        \n",
    "        \n",
    "    # Re-assign synapses based on pruned neuron\n",
    "    synapses.get_neuron_synapses(pruned,\n",
    "                                 db='csv_agglomerated.db', ol_thresh=2, attach=True, collapse_connectors=False)\n",
    "\n",
    "    # Check which ones are in the AL \n",
    "    for n in pruned:\n",
    "        n.connectors['in_al'] = navis.in_volume(n.connectors[['x', 'y', 'z']].values, al)\n",
    "        n.n_presynapses_al = n.connectors[n.connectors.in_al & (n.connectors.type == 'pre')].shape[0]\n",
    "        n.n_postsynapses_al = n.connectors[n.connectors.in_al & (n.connectors.type == 'post')].shape[0]\n",
    "        n.pruned_by = i\n",
    "        \n",
    "    pruning_data.append(pruned.summary(add_props=['n_presynapses', 'n_postsynapses', 'n_presynapses_al', 'n_postsynapses_al', 'pruned_by']))\n",
    "    pruning_data[-1]['syn_recomputed'] = True\n",
    "    \n",
    "pruning_data = pd.concat(pruning_data, axis=0)\n",
    "pruning_data.head()"
   ]
  },
  {
   "cell_type": "code",
   "execution_count": 68,
   "metadata": {},
   "outputs": [
    {
     "data": {
      "text/html": [
       "<div>\n",
       "<style scoped>\n",
       "    .dataframe tbody tr th:only-of-type {\n",
       "        vertical-align: middle;\n",
       "    }\n",
       "\n",
       "    .dataframe tbody tr th {\n",
       "        vertical-align: top;\n",
       "    }\n",
       "\n",
       "    .dataframe thead th {\n",
       "        text-align: right;\n",
       "    }\n",
       "</style>\n",
       "<table border=\"1\" class=\"dataframe\">\n",
       "  <thead>\n",
       "    <tr style=\"text-align: right;\">\n",
       "      <th></th>\n",
       "      <th>type</th>\n",
       "      <th>name</th>\n",
       "      <th>id</th>\n",
       "      <th>n_nodes</th>\n",
       "      <th>n_connectors</th>\n",
       "      <th>n_branches</th>\n",
       "      <th>n_leafs</th>\n",
       "      <th>cable_length</th>\n",
       "      <th>soma</th>\n",
       "      <th>units</th>\n",
       "      <th>...</th>\n",
       "      <th>syn_recomputed</th>\n",
       "      <th>n_presynapses_axon</th>\n",
       "      <th>n_postsynapses_axon</th>\n",
       "      <th>frac_pre</th>\n",
       "      <th>frac_post</th>\n",
       "      <th>frac_pre_al</th>\n",
       "      <th>frac_post_al</th>\n",
       "      <th>frac_pre_axon</th>\n",
       "      <th>frac_post_axon</th>\n",
       "      <th>frac_cable</th>\n",
       "    </tr>\n",
       "  </thead>\n",
       "  <tbody>\n",
       "    <tr>\n",
       "      <th>0</th>\n",
       "      <td>CatmaidNeuron</td>\n",
       "      <td>Multiglomerular mlALT vPN VC4+DC4+DM4+11 LTS 0...</td>\n",
       "      <td>709943</td>\n",
       "      <td>10287</td>\n",
       "      <td>2541</td>\n",
       "      <td>423</td>\n",
       "      <td>434</td>\n",
       "      <td>2093654.750</td>\n",
       "      <td>[3348905]</td>\n",
       "      <td>1 nanometer</td>\n",
       "      <td>...</td>\n",
       "      <td>False</td>\n",
       "      <td>1054</td>\n",
       "      <td>99</td>\n",
       "      <td>1.000000</td>\n",
       "      <td>1.000000</td>\n",
       "      <td>1.000000</td>\n",
       "      <td>1.000000</td>\n",
       "      <td>1.000000</td>\n",
       "      <td>1.000000</td>\n",
       "      <td>1.000000</td>\n",
       "    </tr>\n",
       "    <tr>\n",
       "      <th>1</th>\n",
       "      <td>CatmaidNeuron</td>\n",
       "      <td>Multiglomerular mALT l2PN VM1+VP2+VP3+23 LTS 0...</td>\n",
       "      <td>32793</td>\n",
       "      <td>32757</td>\n",
       "      <td>9728</td>\n",
       "      <td>1956</td>\n",
       "      <td>2008</td>\n",
       "      <td>6449531.500</td>\n",
       "      <td>[11614584]</td>\n",
       "      <td>1 nanometer</td>\n",
       "      <td>...</td>\n",
       "      <td>False</td>\n",
       "      <td>6980</td>\n",
       "      <td>243</td>\n",
       "      <td>1.000000</td>\n",
       "      <td>1.000000</td>\n",
       "      <td>1.000000</td>\n",
       "      <td>1.000000</td>\n",
       "      <td>1.000000</td>\n",
       "      <td>1.000000</td>\n",
       "      <td>1.000000</td>\n",
       "    </tr>\n",
       "    <tr>\n",
       "      <th>0</th>\n",
       "      <td>CatmaidNeuron</td>\n",
       "      <td>Multiglomerular mlALT vPN VC4+DC4+DM4+11 LTS 0...</td>\n",
       "      <td>709943</td>\n",
       "      <td>6548</td>\n",
       "      <td>1484</td>\n",
       "      <td>102</td>\n",
       "      <td>105</td>\n",
       "      <td>1543003.875</td>\n",
       "      <td>[3348905]</td>\n",
       "      <td>1 nanometer</td>\n",
       "      <td>...</td>\n",
       "      <td>False</td>\n",
       "      <td>660</td>\n",
       "      <td>32</td>\n",
       "      <td>0.615342</td>\n",
       "      <td>0.509934</td>\n",
       "      <td>0.599727</td>\n",
       "      <td>0.538110</td>\n",
       "      <td>0.626186</td>\n",
       "      <td>0.323232</td>\n",
       "      <td>0.736991</td>\n",
       "    </tr>\n",
       "    <tr>\n",
       "      <th>1</th>\n",
       "      <td>CatmaidNeuron</td>\n",
       "      <td>Multiglomerular mALT l2PN VM1+VP2+VP3+23 LTS 0...</td>\n",
       "      <td>32793</td>\n",
       "      <td>19077</td>\n",
       "      <td>5402</td>\n",
       "      <td>513</td>\n",
       "      <td>519</td>\n",
       "      <td>4384042.000</td>\n",
       "      <td>[11614584]</td>\n",
       "      <td>1 nanometer</td>\n",
       "      <td>...</td>\n",
       "      <td>False</td>\n",
       "      <td>4071</td>\n",
       "      <td>70</td>\n",
       "      <td>0.592012</td>\n",
       "      <td>0.380840</td>\n",
       "      <td>0.649953</td>\n",
       "      <td>0.396409</td>\n",
       "      <td>0.583238</td>\n",
       "      <td>0.288066</td>\n",
       "      <td>0.679746</td>\n",
       "    </tr>\n",
       "    <tr>\n",
       "      <th>0</th>\n",
       "      <td>CatmaidNeuron</td>\n",
       "      <td>Multiglomerular mlALT vPN VC4+DC4+DM4+11 LTS 0...</td>\n",
       "      <td>709943</td>\n",
       "      <td>5194</td>\n",
       "      <td>1172</td>\n",
       "      <td>65</td>\n",
       "      <td>67</td>\n",
       "      <td>1312657.250</td>\n",
       "      <td>[3348905]</td>\n",
       "      <td>1 nanometer</td>\n",
       "      <td>...</td>\n",
       "      <td>False</td>\n",
       "      <td>536</td>\n",
       "      <td>24</td>\n",
       "      <td>0.505039</td>\n",
       "      <td>0.357616</td>\n",
       "      <td>0.500000</td>\n",
       "      <td>0.375000</td>\n",
       "      <td>0.508539</td>\n",
       "      <td>0.242424</td>\n",
       "      <td>0.626969</td>\n",
       "    </tr>\n",
       "  </tbody>\n",
       "</table>\n",
       "<p>5 rows × 26 columns</p>\n",
       "</div>"
      ],
      "text/plain": [
       "            type                                               name      id  \\\n",
       "0  CatmaidNeuron  Multiglomerular mlALT vPN VC4+DC4+DM4+11 LTS 0...  709943   \n",
       "1  CatmaidNeuron  Multiglomerular mALT l2PN VM1+VP2+VP3+23 LTS 0...   32793   \n",
       "0  CatmaidNeuron  Multiglomerular mlALT vPN VC4+DC4+DM4+11 LTS 0...  709943   \n",
       "1  CatmaidNeuron  Multiglomerular mALT l2PN VM1+VP2+VP3+23 LTS 0...   32793   \n",
       "0  CatmaidNeuron  Multiglomerular mlALT vPN VC4+DC4+DM4+11 LTS 0...  709943   \n",
       "\n",
       "   n_nodes  n_connectors  n_branches  n_leafs  cable_length        soma  \\\n",
       "0    10287          2541         423      434   2093654.750   [3348905]   \n",
       "1    32757          9728        1956     2008   6449531.500  [11614584]   \n",
       "0     6548          1484         102      105   1543003.875   [3348905]   \n",
       "1    19077          5402         513      519   4384042.000  [11614584]   \n",
       "0     5194          1172          65       67   1312657.250   [3348905]   \n",
       "\n",
       "         units  ... syn_recomputed  n_presynapses_axon  n_postsynapses_axon  \\\n",
       "0  1 nanometer  ...          False                1054                   99   \n",
       "1  1 nanometer  ...          False                6980                  243   \n",
       "0  1 nanometer  ...          False                 660                   32   \n",
       "1  1 nanometer  ...          False                4071                   70   \n",
       "0  1 nanometer  ...          False                 536                   24   \n",
       "\n",
       "   frac_pre  frac_post  frac_pre_al  frac_post_al  frac_pre_axon  \\\n",
       "0  1.000000   1.000000     1.000000      1.000000       1.000000   \n",
       "1  1.000000   1.000000     1.000000      1.000000       1.000000   \n",
       "0  0.615342   0.509934     0.599727      0.538110       0.626186   \n",
       "1  0.592012   0.380840     0.649953      0.396409       0.583238   \n",
       "0  0.505039   0.357616     0.500000      0.375000       0.508539   \n",
       "\n",
       "   frac_post_axon  frac_cable  \n",
       "0        1.000000    1.000000  \n",
       "1        1.000000    1.000000  \n",
       "0        0.323232    0.736991  \n",
       "1        0.288066    0.679746  \n",
       "0        0.242424    0.626969  \n",
       "\n",
       "[5 rows x 26 columns]"
      ]
     },
     "execution_count": 68,
     "metadata": {},
     "output_type": "execute_result"
    }
   ],
   "source": [
    "pruning_data['n_presynapses_axon'] = pruning_data.n_presynapses - pruning_data.n_presynapses_al\n",
    "pruning_data['n_postsynapses_axon'] = pruning_data.n_postsynapses - pruning_data.n_postsynapses_al\n",
    "\n",
    "total_pre = pruning_data[pruning_data.pruned_by == 0].set_index('id').n_presynapses.to_dict()\n",
    "total_post = pruning_data[pruning_data.pruned_by == 0].set_index('id').n_postsynapses.to_dict()\n",
    "\n",
    "al_pre = pruning_data[pruning_data.pruned_by == 0].set_index('id').n_presynapses_al.to_dict()\n",
    "al_post = pruning_data[pruning_data.pruned_by == 0].set_index('id').n_postsynapses_al.to_dict()\n",
    "\n",
    "axon_pre = pruning_data[pruning_data.pruned_by == 0].set_index('id').n_presynapses_axon.to_dict()\n",
    "axon_post = pruning_data[pruning_data.pruned_by == 0].set_index('id').n_postsynapses_axon.to_dict()\n",
    "\n",
    "total_cable = pruning_data[pruning_data.pruned_by == 0].set_index('id').cable_length.to_dict()\n",
    "\n",
    "pruning_data['frac_pre'] = pruning_data.n_presynapses / pruning_data.id.map(total_pre)\n",
    "pruning_data['frac_post'] = pruning_data.n_postsynapses / pruning_data.id.map(total_post)\n",
    "\n",
    "pruning_data['frac_pre_al'] = pruning_data.n_presynapses_al / pruning_data.id.map(al_pre)\n",
    "pruning_data['frac_post_al'] = pruning_data.n_postsynapses_al / pruning_data.id.map(al_post)\n",
    "\n",
    "pruning_data['frac_pre_axon'] = pruning_data.n_presynapses_axon / pruning_data.id.map(axon_pre)\n",
    "pruning_data['frac_post_axon'] = pruning_data.n_postsynapses_axon / pruning_data.id.map(axon_post)\n",
    "\n",
    "pruning_data['frac_cable'] = pruning_data.cable_length / pruning_data.id.map(total_cable)\n",
    "\n",
    "pruning_data.head()"
   ]
  },
  {
   "cell_type": "code",
   "execution_count": 114,
   "metadata": {},
   "outputs": [
    {
     "data": {
      "text/html": [
       "<div>\n",
       "<style scoped>\n",
       "    .dataframe tbody tr th:only-of-type {\n",
       "        vertical-align: middle;\n",
       "    }\n",
       "\n",
       "    .dataframe tbody tr th {\n",
       "        vertical-align: top;\n",
       "    }\n",
       "\n",
       "    .dataframe thead tr th {\n",
       "        text-align: left;\n",
       "    }\n",
       "\n",
       "    .dataframe thead tr:last-of-type th {\n",
       "        text-align: right;\n",
       "    }\n",
       "</style>\n",
       "<table border=\"1\" class=\"dataframe\">\n",
       "  <thead>\n",
       "    <tr>\n",
       "      <th></th>\n",
       "      <th colspan=\"8\" halign=\"left\">frac_pre</th>\n",
       "      <th colspan=\"5\" halign=\"left\">frac_post</th>\n",
       "      <th colspan=\"8\" halign=\"left\">frac_cable</th>\n",
       "    </tr>\n",
       "    <tr>\n",
       "      <th></th>\n",
       "      <th>count</th>\n",
       "      <th>mean</th>\n",
       "      <th>std</th>\n",
       "      <th>min</th>\n",
       "      <th>25%</th>\n",
       "      <th>50%</th>\n",
       "      <th>75%</th>\n",
       "      <th>max</th>\n",
       "      <th>count</th>\n",
       "      <th>mean</th>\n",
       "      <th>...</th>\n",
       "      <th>75%</th>\n",
       "      <th>max</th>\n",
       "      <th>count</th>\n",
       "      <th>mean</th>\n",
       "      <th>std</th>\n",
       "      <th>min</th>\n",
       "      <th>25%</th>\n",
       "      <th>50%</th>\n",
       "      <th>75%</th>\n",
       "      <th>max</th>\n",
       "    </tr>\n",
       "    <tr>\n",
       "      <th>pruned_by</th>\n",
       "      <th></th>\n",
       "      <th></th>\n",
       "      <th></th>\n",
       "      <th></th>\n",
       "      <th></th>\n",
       "      <th></th>\n",
       "      <th></th>\n",
       "      <th></th>\n",
       "      <th></th>\n",
       "      <th></th>\n",
       "      <th></th>\n",
       "      <th></th>\n",
       "      <th></th>\n",
       "      <th></th>\n",
       "      <th></th>\n",
       "      <th></th>\n",
       "      <th></th>\n",
       "      <th></th>\n",
       "      <th></th>\n",
       "      <th></th>\n",
       "      <th></th>\n",
       "    </tr>\n",
       "  </thead>\n",
       "  <tbody>\n",
       "    <tr>\n",
       "      <th>0</th>\n",
       "      <td>1.0</td>\n",
       "      <td>1.000000</td>\n",
       "      <td>NaN</td>\n",
       "      <td>1.000000</td>\n",
       "      <td>1.000000</td>\n",
       "      <td>1.000000</td>\n",
       "      <td>1.000000</td>\n",
       "      <td>1.000000</td>\n",
       "      <td>1.0</td>\n",
       "      <td>1.000000</td>\n",
       "      <td>...</td>\n",
       "      <td>1.000000</td>\n",
       "      <td>1.000000</td>\n",
       "      <td>1.0</td>\n",
       "      <td>1.000000</td>\n",
       "      <td>NaN</td>\n",
       "      <td>1.000000</td>\n",
       "      <td>1.000000</td>\n",
       "      <td>1.000000</td>\n",
       "      <td>1.000000</td>\n",
       "      <td>1.000000</td>\n",
       "    </tr>\n",
       "    <tr>\n",
       "      <th>1</th>\n",
       "      <td>1.0</td>\n",
       "      <td>0.621501</td>\n",
       "      <td>NaN</td>\n",
       "      <td>0.621501</td>\n",
       "      <td>0.621501</td>\n",
       "      <td>0.621501</td>\n",
       "      <td>0.621501</td>\n",
       "      <td>0.621501</td>\n",
       "      <td>1.0</td>\n",
       "      <td>0.520530</td>\n",
       "      <td>...</td>\n",
       "      <td>0.520530</td>\n",
       "      <td>0.520530</td>\n",
       "      <td>1.0</td>\n",
       "      <td>0.736991</td>\n",
       "      <td>NaN</td>\n",
       "      <td>0.736991</td>\n",
       "      <td>0.736991</td>\n",
       "      <td>0.736991</td>\n",
       "      <td>0.736991</td>\n",
       "      <td>0.736991</td>\n",
       "    </tr>\n",
       "    <tr>\n",
       "      <th>2</th>\n",
       "      <td>1.0</td>\n",
       "      <td>0.531355</td>\n",
       "      <td>NaN</td>\n",
       "      <td>0.531355</td>\n",
       "      <td>0.531355</td>\n",
       "      <td>0.531355</td>\n",
       "      <td>0.531355</td>\n",
       "      <td>0.531355</td>\n",
       "      <td>1.0</td>\n",
       "      <td>0.362914</td>\n",
       "      <td>...</td>\n",
       "      <td>0.362914</td>\n",
       "      <td>0.362914</td>\n",
       "      <td>1.0</td>\n",
       "      <td>0.626969</td>\n",
       "      <td>NaN</td>\n",
       "      <td>0.626969</td>\n",
       "      <td>0.626969</td>\n",
       "      <td>0.626969</td>\n",
       "      <td>0.626969</td>\n",
       "      <td>0.626969</td>\n",
       "    </tr>\n",
       "    <tr>\n",
       "      <th>3</th>\n",
       "      <td>1.0</td>\n",
       "      <td>0.394177</td>\n",
       "      <td>NaN</td>\n",
       "      <td>0.394177</td>\n",
       "      <td>0.394177</td>\n",
       "      <td>0.394177</td>\n",
       "      <td>0.394177</td>\n",
       "      <td>0.394177</td>\n",
       "      <td>1.0</td>\n",
       "      <td>0.241060</td>\n",
       "      <td>...</td>\n",
       "      <td>0.241060</td>\n",
       "      <td>0.241060</td>\n",
       "      <td>1.0</td>\n",
       "      <td>0.529741</td>\n",
       "      <td>NaN</td>\n",
       "      <td>0.529741</td>\n",
       "      <td>0.529741</td>\n",
       "      <td>0.529741</td>\n",
       "      <td>0.529741</td>\n",
       "      <td>0.529741</td>\n",
       "    </tr>\n",
       "    <tr>\n",
       "      <th>4</th>\n",
       "      <td>1.0</td>\n",
       "      <td>0.331467</td>\n",
       "      <td>NaN</td>\n",
       "      <td>0.331467</td>\n",
       "      <td>0.331467</td>\n",
       "      <td>0.331467</td>\n",
       "      <td>0.331467</td>\n",
       "      <td>0.331467</td>\n",
       "      <td>1.0</td>\n",
       "      <td>0.178808</td>\n",
       "      <td>...</td>\n",
       "      <td>0.178808</td>\n",
       "      <td>0.178808</td>\n",
       "      <td>1.0</td>\n",
       "      <td>0.470201</td>\n",
       "      <td>NaN</td>\n",
       "      <td>0.470201</td>\n",
       "      <td>0.470201</td>\n",
       "      <td>0.470201</td>\n",
       "      <td>0.470201</td>\n",
       "      <td>0.470201</td>\n",
       "    </tr>\n",
       "  </tbody>\n",
       "</table>\n",
       "<p>5 rows × 24 columns</p>\n",
       "</div>"
      ],
      "text/plain": [
       "          frac_pre                                                        \\\n",
       "             count      mean std       min       25%       50%       75%   \n",
       "pruned_by                                                                  \n",
       "0              1.0  1.000000 NaN  1.000000  1.000000  1.000000  1.000000   \n",
       "1              1.0  0.621501 NaN  0.621501  0.621501  0.621501  0.621501   \n",
       "2              1.0  0.531355 NaN  0.531355  0.531355  0.531355  0.531355   \n",
       "3              1.0  0.394177 NaN  0.394177  0.394177  0.394177  0.394177   \n",
       "4              1.0  0.331467 NaN  0.331467  0.331467  0.331467  0.331467   \n",
       "\n",
       "                    frac_post            ...                     frac_cable  \\\n",
       "                max     count      mean  ...       75%       max      count   \n",
       "pruned_by                                ...                                  \n",
       "0          1.000000       1.0  1.000000  ...  1.000000  1.000000        1.0   \n",
       "1          0.621501       1.0  0.520530  ...  0.520530  0.520530        1.0   \n",
       "2          0.531355       1.0  0.362914  ...  0.362914  0.362914        1.0   \n",
       "3          0.394177       1.0  0.241060  ...  0.241060  0.241060        1.0   \n",
       "4          0.331467       1.0  0.178808  ...  0.178808  0.178808        1.0   \n",
       "\n",
       "                                                                           \n",
       "               mean std       min       25%       50%       75%       max  \n",
       "pruned_by                                                                  \n",
       "0          1.000000 NaN  1.000000  1.000000  1.000000  1.000000  1.000000  \n",
       "1          0.736991 NaN  0.736991  0.736991  0.736991  0.736991  0.736991  \n",
       "2          0.626969 NaN  0.626969  0.626969  0.626969  0.626969  0.626969  \n",
       "3          0.529741 NaN  0.529741  0.529741  0.529741  0.529741  0.529741  \n",
       "4          0.470201 NaN  0.470201  0.470201  0.470201  0.470201  0.470201  \n",
       "\n",
       "[5 rows x 24 columns]"
      ]
     },
     "execution_count": 114,
     "metadata": {},
     "output_type": "execute_result"
    }
   ],
   "source": [
    "pruning_data[(pruning_data.id == '709943') & pruning_data.syn_recomputed].groupby('pruned_by')[['frac_pre', 'frac_post', 'frac_cable']].describe()"
   ]
  },
  {
   "cell_type": "code",
   "execution_count": 82,
   "metadata": {},
   "outputs": [
    {
     "data": {
      "image/png": "[encoded data removed]",
      "text/plain": [
       "<Figure size 720x216 with 3 Axes>"
      ]
     },
     "metadata": {
      "needs_background": "light"
     },
     "output_type": "display_data"
    }
   ],
   "source": [
    "fig, axes = plt.subplots(1, 3, figsize=(10, 3), sharey=True, sharex=True)\n",
    "\n",
    "to_plot = pruning_data[(pruning_data.id == '709943') & pruning_data.syn_recomputed]\n",
    "\n",
    "ax = sns.pointplot(data=to_plot, x='pruned_by', y='frac_pre', label='fraction of presynapses', color='red', ax=axes[0])\n",
    "ax = sns.pointplot(data=to_plot, x='pruned_by', y='frac_post', label='fraction of presynapses', color='cyan', ax=axes[0])\n",
    "ax = sns.pointplot(data=to_plot, x='pruned_by', y='frac_cable', label='fraction of cable', color='slategrey', ax=axes[0])\n",
    "\n",
    "ax = sns.pointplot(data=to_plot, x='pruned_by', y='frac_pre_al', label='fraction of presynapses', color='red', ax=axes[1])\n",
    "ax = sns.pointplot(data=to_plot, x='pruned_by', y='frac_post_al', label='fraction of presynapses', color='cyan', ax=axes[1])\n",
    "\n",
    "ax = sns.pointplot(data=to_plot, x='pruned_by', y='frac_pre_axon', label='fraction of presynapses', color='red', ax=axes[2])\n",
    "ax = sns.pointplot(data=to_plot, x='pruned_by', y='frac_post_axon', label='fraction of presynapses', color='cyan', ax=axes[2])\n",
    "\n",
    "axes[0].set_ylabel(\"fraction of total\")\n",
    "\n",
    "for ax in axes:\n",
    "    ax.set_xlabel(\"iterative pruning steps\")\n",
    "\n",
    "sns.despine(trim=True)"
   ]
  },
  {
   "cell_type": "code",
   "execution_count": 98,
   "metadata": {},
   "outputs": [
    {
     "data": {
      "image/png": "[encoded data removed]",
      "text/plain": [
       "<Figure size 216x216 with 1 Axes>"
      ]
     },
     "metadata": {
      "needs_background": "light"
     },
     "output_type": "display_data"
    }
   ],
   "source": [
    "fig, ax = plt.subplots(figsize=(3, 3), sharey=True, sharex=True)\n",
    "\n",
    "to_plot = pruning_data[(pruning_data.id == '709943') & pruning_data.syn_recomputed]\n",
    "\n",
    "ax = sns.pointplot(data=to_plot, x='pruned_by', y='frac_pre', label='fraction of presynapses', color='red', ax=ax)\n",
    "ax = sns.pointplot(data=to_plot, x='pruned_by', y='frac_post', label='fraction of presynapses', color=(110/255, 190/255, 190/255), ax=ax)\n",
    "ax = sns.pointplot(data=to_plot, x='pruned_by', y='frac_cable', label='fraction of cable', color='slategrey', ax=ax)\n",
    "\n",
    "ax.set_ylabel(\"fraction of total\")\n",
    "ax.set_xlabel(\"pruning steps\")\n",
    "\n",
    "sns.despine(trim=True)\n",
    "plt.tight_layout()\n",
    "plt.savefig(f'pruning.pdf', dpi=400, transparent=True)"
   ]
  },
  {
   "cell_type": "markdown",
   "metadata": {},
   "source": [
    "### Last but not least: some examples for well- and not-so-well segregated (i.e. polarized) PNs"
   ]
  },
  {
   "cell_type": "code",
   "execution_count": 234,
   "metadata": {},
   "outputs": [
    {
     "name": "stderr",
     "output_type": "stream",
     "text": [
      "INFO  : Cached data used. Use `pymaid.clear_cache()` to clear. (pymaid)\n",
      "INFO  : Cached data used. Use `pymaid.clear_cache()` to clear. (pymaid)\n"
     ]
    }
   ],
   "source": [
    "al = pymaid.get_volume('AL_R')\n",
    "al.color = (230, 230, 230, .1)"
   ]
  },
  {
   "cell_type": "code",
   "execution_count": 235,
   "metadata": {},
   "outputs": [
    {
     "data": {
      "image/png": "[encoded data removed]",
      "text/plain": [
       "<Figure size 432x432 with 1 Axes>"
      ]
     },
     "metadata": {
      "needs_background": "light"
     },
     "output_type": "display_data"
    }
   ],
   "source": [
    "n = pns_syn.idx[57446]\n",
    "fig, ax = navis.plot2d([n, al],\n",
    "                       connectors=True, color='k', lw=1.5, alpha=.3, cn_alpha=.9,\n",
    "                       cn_size=7)\n",
    "ax.elev, ax.azim, ax.dist = -90, -90, 5\n",
    "plt.savefig('example_neuron_not_seg.png', transparent=True, dpi=400)"
   ]
  },
  {
   "cell_type": "code",
   "execution_count": 236,
   "metadata": {},
   "outputs": [
    {
     "data": {
      "image/png": "[encoded data removed]",
      "text/plain": [
       "<Figure size 432x432 with 1 Axes>"
      ]
     },
     "metadata": {
      "needs_background": "light"
     },
     "output_type": "display_data"
    }
   ],
   "source": [
    "n = pns_syn.idx[1702624]\n",
    "fig, ax = navis.plot2d([n, al],\n",
    "                       connectors=True, color='k', lw=1.5, alpha=.3, cn_alpha=.9,\n",
    "                       cn_size=7)\n",
    "ax.elev, ax.azim, ax.dist = -90, -90, 5\n",
    "plt.savefig('example_neuron_well_seg.png', transparent=True, dpi=400)"
   ]
  }
 ],
 "metadata": {
  "kernelspec": {
   "display_name": "Python 3",
   "language": "python",
   "name": "python3"
  },
  "language_info": {
   "codemirror_mode": {
    "name": "ipython",
    "version": 3
   },
   "file_extension": ".py",
   "mimetype": "text/x-python",
   "name": "python",
   "nbconvert_exporter": "python",
   "pygments_lexer": "ipython3",
   "version": "3.7.5"
  },
  "widgets": {
   "application/vnd.jupyter.widget-state+json": {
    "state": {
     "02460f4136d14f529c9cf9e9bd5a2d06": {
      "model_module": "@jupyter-widgets/base",
      "model_module_version": "1.2.0",
      "model_name": "LayoutModel",
      "state": {}
     },
     "0f44ff261b19405a9f1aff605e9cbac6": {
      "model_module": "@jupyter-widgets/controls",
      "model_module_version": "1.5.0",
      "model_name": "HTMLModel",
      "state": {
       "layout": "IPY_MODEL_ca18a7a851694f41acb36a4b84d1f5a9",
       "style": "IPY_MODEL_11a0130fb26d4554867448a11c4accf6",
       "value": " 348/348 [00:07&lt;00:00,  6.84it/s]"
      }
     },
     "11a0130fb26d4554867448a11c4accf6": {
      "model_module": "@jupyter-widgets/controls",
      "model_module_version": "1.5.0",
      "model_name": "DescriptionStyleModel",
      "state": {
       "description_width": ""
      }
     },
     "1437008ccf3345c89539b29bfb7a3d8b": {
      "model_module": "@jupyter-widgets/base",
      "model_module_version": "1.2.0",
      "model_name": "LayoutModel",
      "state": {}
     },
     "20639ff0114640dc9ce4799fbc6b8d39": {
      "model_module": "@jupyter-widgets/base",
      "model_module_version": "1.2.0",
      "model_name": "LayoutModel",
      "state": {}
     },
     "372c6c64a4254e4983c68b4d8d2781a5": {
      "model_module": "@jupyter-widgets/base",
      "model_module_version": "1.2.0",
      "model_name": "LayoutModel",
      "state": {}
     },
     "39f99faf83004d05af01712e66aa55c4": {
      "model_module": "@jupyter-widgets/controls",
      "model_module_version": "1.5.0",
      "model_name": "HTMLModel",
      "state": {
       "layout": "IPY_MODEL_92f6188f678c4a678f98bad918bbdd11",
       "style": "IPY_MODEL_8a207f3e575b495b932657337512c46d",
       "value": " 348/348 [00:11&lt;00:00, 37.95it/s]"
      }
     },
     "40c4ba9181264ee6bf4175ac24aaac1a": {
      "model_module": "@jupyter-widgets/controls",
      "model_module_version": "1.5.0",
      "model_name": "DescriptionStyleModel",
      "state": {
       "description_width": ""
      }
     },
     "43672b0755c141dfb0068be9efd13fcb": {
      "model_module": "@jupyter-widgets/base",
      "model_module_version": "1.2.0",
      "model_name": "LayoutModel",
      "state": {}
     },
     "5a1ce46bb7654cc982ce44767038433b": {
      "model_module": "@jupyter-widgets/controls",
      "model_module_version": "1.5.0",
      "model_name": "ProgressStyleModel",
      "state": {
       "description_width": ""
      }
     },
     "84631bf8a20b4ca986bcdaafe2730b33": {
      "model_module": "@jupyter-widgets/controls",
      "model_module_version": "1.5.0",
      "model_name": "FloatProgressModel",
      "state": {
       "layout": "IPY_MODEL_1437008ccf3345c89539b29bfb7a3d8b",
       "max": 348,
       "style": "IPY_MODEL_5a1ce46bb7654cc982ce44767038433b",
       "value": 348
      }
     },
     "8a207f3e575b495b932657337512c46d": {
      "model_module": "@jupyter-widgets/controls",
      "model_module_version": "1.5.0",
      "model_name": "DescriptionStyleModel",
      "state": {
       "description_width": ""
      }
     },
     "92f6188f678c4a678f98bad918bbdd11": {
      "model_module": "@jupyter-widgets/base",
      "model_module_version": "1.2.0",
      "model_name": "LayoutModel",
      "state": {}
     },
     "a3ba566b1dd3444fa25d8ab2a32de545": {
      "model_module": "@jupyter-widgets/controls",
      "model_module_version": "1.5.0",
      "model_name": "HTMLModel",
      "state": {
       "layout": "IPY_MODEL_20639ff0114640dc9ce4799fbc6b8d39",
       "style": "IPY_MODEL_df1ce914964745da9104076ab22c5df7",
       "value": "Fetch neurons: 100%"
      }
     },
     "ca18a7a851694f41acb36a4b84d1f5a9": {
      "model_module": "@jupyter-widgets/base",
      "model_module_version": "1.2.0",
      "model_name": "LayoutModel",
      "state": {}
     },
     "ccf043ca9ee74e2da1606edc11139741": {
      "model_module": "@jupyter-widgets/controls",
      "model_module_version": "1.5.0",
      "model_name": "FloatProgressModel",
      "state": {
       "layout": "IPY_MODEL_372c6c64a4254e4983c68b4d8d2781a5",
       "max": 348,
       "style": "IPY_MODEL_d2a4fbf9bfa84e28a1164157f5b6da83",
       "value": 348
      }
     },
     "ced8c4d326e34fc6ab7bfc547f9de814": {
      "model_module": "@jupyter-widgets/base",
      "model_module_version": "1.2.0",
      "model_name": "LayoutModel",
      "state": {}
     },
     "d2a4fbf9bfa84e28a1164157f5b6da83": {
      "model_module": "@jupyter-widgets/controls",
      "model_module_version": "1.5.0",
      "model_name": "ProgressStyleModel",
      "state": {
       "description_width": ""
      }
     },
     "df1ce914964745da9104076ab22c5df7": {
      "model_module": "@jupyter-widgets/controls",
      "model_module_version": "1.5.0",
      "model_name": "DescriptionStyleModel",
      "state": {
       "description_width": ""
      }
     },
     "fe3850fb7d2d410c935705e8ea649744": {
      "model_module": "@jupyter-widgets/controls",
      "model_module_version": "1.5.0",
      "model_name": "HTMLModel",
      "state": {
       "layout": "IPY_MODEL_02460f4136d14f529c9cf9e9bd5a2d06",
       "style": "IPY_MODEL_40c4ba9181264ee6bf4175ac24aaac1a",
       "value": "Make nrn: 100%"
      }
     }
    },
    "version_major": 2,
    "version_minor": 0
   }
  }
 },
 "nbformat": 4,
 "nbformat_minor": 4
}
